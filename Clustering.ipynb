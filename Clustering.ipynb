{
  "nbformat": 4,
  "nbformat_minor": 0,
  "metadata": {
    "colab": {
      "provenance": [],
      "authorship_tag": "ABX9TyOviiTIT01HOQaWuDT7duFF",
      "include_colab_link": true
    },
    "kernelspec": {
      "name": "python3",
      "display_name": "Python 3"
    },
    "language_info": {
      "name": "python"
    }
  },
  "cells": [
    {
      "cell_type": "markdown",
      "metadata": {
        "id": "view-in-github",
        "colab_type": "text"
      },
      "source": [
        "<a href=\"https://colab.research.google.com/github/Hawawou/UE-803/blob/main/Clustering.ipynb\" target=\"_parent\"><img src=\"https://colab.research.google.com/assets/colab-badge.svg\" alt=\"Open In Colab\"/></a>"
      ]
    },
    {
      "cell_type": "code",
      "execution_count": 2,
      "metadata": {
        "colab": {
          "base_uri": "https://localhost:8080/",
          "height": 206
        },
        "id": "PY3PW5rkuUSH",
        "outputId": "9503ded7-0d6d-425e-b960-7a3170838cf5"
      },
      "outputs": [
        {
          "output_type": "execute_result",
          "data": {
            "text/plain": [
              "     Category                          Name  \\\n",
              "92  Sculptors                  Mary Audsley   \n",
              "93  Sculptors                Hezekiah Augur   \n",
              "94  Sculptors             Antun Augustinčić   \n",
              "95  Sculptors                  Alice Aycock   \n",
              "96  Sculptors  Giovanni Bernardino Azzolini   \n",
              "\n",
              "                                              Content  \n",
              "92  Mary C. Audsley (1919-2008) was a British pain...  \n",
              "93  Hezekiah Augur (February 21, 1791 – January 10...  \n",
              "94  Antun Augustinčić (4 May 1900 – 10 May 1979) w...  \n",
              "95  Alice Aycock (born November 20, 1946) is an Am...  \n",
              "96  Giovanni Bernardino Azzolini (c. 1572 – 12 Dec...  "
            ],
            "text/html": [
              "\n",
              "  <div id=\"df-9c618226-44c8-4507-b509-45e1c95fe9ac\" class=\"colab-df-container\">\n",
              "    <div>\n",
              "<style scoped>\n",
              "    .dataframe tbody tr th:only-of-type {\n",
              "        vertical-align: middle;\n",
              "    }\n",
              "\n",
              "    .dataframe tbody tr th {\n",
              "        vertical-align: top;\n",
              "    }\n",
              "\n",
              "    .dataframe thead th {\n",
              "        text-align: right;\n",
              "    }\n",
              "</style>\n",
              "<table border=\"1\" class=\"dataframe\">\n",
              "  <thead>\n",
              "    <tr style=\"text-align: right;\">\n",
              "      <th></th>\n",
              "      <th>Category</th>\n",
              "      <th>Name</th>\n",
              "      <th>Content</th>\n",
              "    </tr>\n",
              "  </thead>\n",
              "  <tbody>\n",
              "    <tr>\n",
              "      <th>92</th>\n",
              "      <td>Sculptors</td>\n",
              "      <td>Mary Audsley</td>\n",
              "      <td>Mary C. Audsley (1919-2008) was a British pain...</td>\n",
              "    </tr>\n",
              "    <tr>\n",
              "      <th>93</th>\n",
              "      <td>Sculptors</td>\n",
              "      <td>Hezekiah Augur</td>\n",
              "      <td>Hezekiah Augur (February 21, 1791 – January 10...</td>\n",
              "    </tr>\n",
              "    <tr>\n",
              "      <th>94</th>\n",
              "      <td>Sculptors</td>\n",
              "      <td>Antun Augustinčić</td>\n",
              "      <td>Antun Augustinčić (4 May 1900 – 10 May 1979) w...</td>\n",
              "    </tr>\n",
              "    <tr>\n",
              "      <th>95</th>\n",
              "      <td>Sculptors</td>\n",
              "      <td>Alice Aycock</td>\n",
              "      <td>Alice Aycock (born November 20, 1946) is an Am...</td>\n",
              "    </tr>\n",
              "    <tr>\n",
              "      <th>96</th>\n",
              "      <td>Sculptors</td>\n",
              "      <td>Giovanni Bernardino Azzolini</td>\n",
              "      <td>Giovanni Bernardino Azzolini (c. 1572 – 12 Dec...</td>\n",
              "    </tr>\n",
              "  </tbody>\n",
              "</table>\n",
              "</div>\n",
              "    <div class=\"colab-df-buttons\">\n",
              "\n",
              "  <div class=\"colab-df-container\">\n",
              "    <button class=\"colab-df-convert\" onclick=\"convertToInteractive('df-9c618226-44c8-4507-b509-45e1c95fe9ac')\"\n",
              "            title=\"Convert this dataframe to an interactive table.\"\n",
              "            style=\"display:none;\">\n",
              "\n",
              "  <svg xmlns=\"http://www.w3.org/2000/svg\" height=\"24px\" viewBox=\"0 -960 960 960\">\n",
              "    <path d=\"M120-120v-720h720v720H120Zm60-500h600v-160H180v160Zm220 220h160v-160H400v160Zm0 220h160v-160H400v160ZM180-400h160v-160H180v160Zm440 0h160v-160H620v160ZM180-180h160v-160H180v160Zm440 0h160v-160H620v160Z\"/>\n",
              "  </svg>\n",
              "    </button>\n",
              "\n",
              "  <style>\n",
              "    .colab-df-container {\n",
              "      display:flex;\n",
              "      gap: 12px;\n",
              "    }\n",
              "\n",
              "    .colab-df-convert {\n",
              "      background-color: #E8F0FE;\n",
              "      border: none;\n",
              "      border-radius: 50%;\n",
              "      cursor: pointer;\n",
              "      display: none;\n",
              "      fill: #1967D2;\n",
              "      height: 32px;\n",
              "      padding: 0 0 0 0;\n",
              "      width: 32px;\n",
              "    }\n",
              "\n",
              "    .colab-df-convert:hover {\n",
              "      background-color: #E2EBFA;\n",
              "      box-shadow: 0px 1px 2px rgba(60, 64, 67, 0.3), 0px 1px 3px 1px rgba(60, 64, 67, 0.15);\n",
              "      fill: #174EA6;\n",
              "    }\n",
              "\n",
              "    .colab-df-buttons div {\n",
              "      margin-bottom: 4px;\n",
              "    }\n",
              "\n",
              "    [theme=dark] .colab-df-convert {\n",
              "      background-color: #3B4455;\n",
              "      fill: #D2E3FC;\n",
              "    }\n",
              "\n",
              "    [theme=dark] .colab-df-convert:hover {\n",
              "      background-color: #434B5C;\n",
              "      box-shadow: 0px 1px 3px 1px rgba(0, 0, 0, 0.15);\n",
              "      filter: drop-shadow(0px 1px 2px rgba(0, 0, 0, 0.3));\n",
              "      fill: #FFFFFF;\n",
              "    }\n",
              "  </style>\n",
              "\n",
              "    <script>\n",
              "      const buttonEl =\n",
              "        document.querySelector('#df-9c618226-44c8-4507-b509-45e1c95fe9ac button.colab-df-convert');\n",
              "      buttonEl.style.display =\n",
              "        google.colab.kernel.accessAllowed ? 'block' : 'none';\n",
              "\n",
              "      async function convertToInteractive(key) {\n",
              "        const element = document.querySelector('#df-9c618226-44c8-4507-b509-45e1c95fe9ac');\n",
              "        const dataTable =\n",
              "          await google.colab.kernel.invokeFunction('convertToInteractive',\n",
              "                                                    [key], {});\n",
              "        if (!dataTable) return;\n",
              "\n",
              "        const docLinkHtml = 'Like what you see? Visit the ' +\n",
              "          '<a target=\"_blank\" href=https://colab.research.google.com/notebooks/data_table.ipynb>data table notebook</a>'\n",
              "          + ' to learn more about interactive tables.';\n",
              "        element.innerHTML = '';\n",
              "        dataTable['output_type'] = 'display_data';\n",
              "        await google.colab.output.renderOutput(dataTable, element);\n",
              "        const docLink = document.createElement('div');\n",
              "        docLink.innerHTML = docLinkHtml;\n",
              "        element.appendChild(docLink);\n",
              "      }\n",
              "    </script>\n",
              "  </div>\n",
              "\n",
              "\n",
              "<div id=\"df-67c49720-bdae-489c-864e-ef35b3ced268\">\n",
              "  <button class=\"colab-df-quickchart\" onclick=\"quickchart('df-67c49720-bdae-489c-864e-ef35b3ced268')\"\n",
              "            title=\"Suggest charts\"\n",
              "            style=\"display:none;\">\n",
              "\n",
              "<svg xmlns=\"http://www.w3.org/2000/svg\" height=\"24px\"viewBox=\"0 0 24 24\"\n",
              "     width=\"24px\">\n",
              "    <g>\n",
              "        <path d=\"M19 3H5c-1.1 0-2 .9-2 2v14c0 1.1.9 2 2 2h14c1.1 0 2-.9 2-2V5c0-1.1-.9-2-2-2zM9 17H7v-7h2v7zm4 0h-2V7h2v10zm4 0h-2v-4h2v4z\"/>\n",
              "    </g>\n",
              "</svg>\n",
              "  </button>\n",
              "\n",
              "<style>\n",
              "  .colab-df-quickchart {\n",
              "      --bg-color: #E8F0FE;\n",
              "      --fill-color: #1967D2;\n",
              "      --hover-bg-color: #E2EBFA;\n",
              "      --hover-fill-color: #174EA6;\n",
              "      --disabled-fill-color: #AAA;\n",
              "      --disabled-bg-color: #DDD;\n",
              "  }\n",
              "\n",
              "  [theme=dark] .colab-df-quickchart {\n",
              "      --bg-color: #3B4455;\n",
              "      --fill-color: #D2E3FC;\n",
              "      --hover-bg-color: #434B5C;\n",
              "      --hover-fill-color: #FFFFFF;\n",
              "      --disabled-bg-color: #3B4455;\n",
              "      --disabled-fill-color: #666;\n",
              "  }\n",
              "\n",
              "  .colab-df-quickchart {\n",
              "    background-color: var(--bg-color);\n",
              "    border: none;\n",
              "    border-radius: 50%;\n",
              "    cursor: pointer;\n",
              "    display: none;\n",
              "    fill: var(--fill-color);\n",
              "    height: 32px;\n",
              "    padding: 0;\n",
              "    width: 32px;\n",
              "  }\n",
              "\n",
              "  .colab-df-quickchart:hover {\n",
              "    background-color: var(--hover-bg-color);\n",
              "    box-shadow: 0 1px 2px rgba(60, 64, 67, 0.3), 0 1px 3px 1px rgba(60, 64, 67, 0.15);\n",
              "    fill: var(--button-hover-fill-color);\n",
              "  }\n",
              "\n",
              "  .colab-df-quickchart-complete:disabled,\n",
              "  .colab-df-quickchart-complete:disabled:hover {\n",
              "    background-color: var(--disabled-bg-color);\n",
              "    fill: var(--disabled-fill-color);\n",
              "    box-shadow: none;\n",
              "  }\n",
              "\n",
              "  .colab-df-spinner {\n",
              "    border: 2px solid var(--fill-color);\n",
              "    border-color: transparent;\n",
              "    border-bottom-color: var(--fill-color);\n",
              "    animation:\n",
              "      spin 1s steps(1) infinite;\n",
              "  }\n",
              "\n",
              "  @keyframes spin {\n",
              "    0% {\n",
              "      border-color: transparent;\n",
              "      border-bottom-color: var(--fill-color);\n",
              "      border-left-color: var(--fill-color);\n",
              "    }\n",
              "    20% {\n",
              "      border-color: transparent;\n",
              "      border-left-color: var(--fill-color);\n",
              "      border-top-color: var(--fill-color);\n",
              "    }\n",
              "    30% {\n",
              "      border-color: transparent;\n",
              "      border-left-color: var(--fill-color);\n",
              "      border-top-color: var(--fill-color);\n",
              "      border-right-color: var(--fill-color);\n",
              "    }\n",
              "    40% {\n",
              "      border-color: transparent;\n",
              "      border-right-color: var(--fill-color);\n",
              "      border-top-color: var(--fill-color);\n",
              "    }\n",
              "    60% {\n",
              "      border-color: transparent;\n",
              "      border-right-color: var(--fill-color);\n",
              "    }\n",
              "    80% {\n",
              "      border-color: transparent;\n",
              "      border-right-color: var(--fill-color);\n",
              "      border-bottom-color: var(--fill-color);\n",
              "    }\n",
              "    90% {\n",
              "      border-color: transparent;\n",
              "      border-bottom-color: var(--fill-color);\n",
              "    }\n",
              "  }\n",
              "</style>\n",
              "\n",
              "  <script>\n",
              "    async function quickchart(key) {\n",
              "      const quickchartButtonEl =\n",
              "        document.querySelector('#' + key + ' button');\n",
              "      quickchartButtonEl.disabled = true;  // To prevent multiple clicks.\n",
              "      quickchartButtonEl.classList.add('colab-df-spinner');\n",
              "      try {\n",
              "        const charts = await google.colab.kernel.invokeFunction(\n",
              "            'suggestCharts', [key], {});\n",
              "      } catch (error) {\n",
              "        console.error('Error during call to suggestCharts:', error);\n",
              "      }\n",
              "      quickchartButtonEl.classList.remove('colab-df-spinner');\n",
              "      quickchartButtonEl.classList.add('colab-df-quickchart-complete');\n",
              "    }\n",
              "    (() => {\n",
              "      let quickchartButtonEl =\n",
              "        document.querySelector('#df-67c49720-bdae-489c-864e-ef35b3ced268 button');\n",
              "      quickchartButtonEl.style.display =\n",
              "        google.colab.kernel.accessAllowed ? 'block' : 'none';\n",
              "    })();\n",
              "  </script>\n",
              "</div>\n",
              "    </div>\n",
              "  </div>\n"
            ],
            "application/vnd.google.colaboratory.intrinsic+json": {
              "type": "dataframe",
              "summary": "{\n  \"name\": \"df\",\n  \"rows\": 5,\n  \"fields\": [\n    {\n      \"column\": \"Category\",\n      \"properties\": {\n        \"dtype\": \"category\",\n        \"num_unique_values\": 1,\n        \"samples\": [\n          \"Sculptors\"\n        ],\n        \"semantic_type\": \"\",\n        \"description\": \"\"\n      }\n    },\n    {\n      \"column\": \"Name\",\n      \"properties\": {\n        \"dtype\": \"string\",\n        \"num_unique_values\": 5,\n        \"samples\": [\n          \"Hezekiah Augur\"\n        ],\n        \"semantic_type\": \"\",\n        \"description\": \"\"\n      }\n    },\n    {\n      \"column\": \"Content\",\n      \"properties\": {\n        \"dtype\": \"string\",\n        \"num_unique_values\": 5,\n        \"samples\": [\n          \"Hezekiah Augur (February 21, 1791 \\u2013 January 10, 1858) was an early American sculptor and inventor. He was a self-taught sculptor and, unlike many other 19th-century American sculptors, did not travel to Europe, but spent his entire career in New Haven.\\r\\n\\r\\n\\r\\n== Life ==\\r\\nAugur was born in New Haven, Connecticut. The son of a carpenter, he learned his trade as a woodcarver, carving table legs and other furniture ornament.  Borrowing $2,000 from his father, he was invited to join a grocery store business venture. Three years later he discovered, to his shock and amazement, that not only was his money gone, but that he owed his partners $7,000.  While thus engaged he invented a lace-making machine that lifted the financial burdens that he had assumed and thus allowed him to take up carving full-time.  Around that time he also invented a machine for carving piano legs.  He switched to marble later in his career, being among the first native born Americans to do so.  Chauncey Ives studied briefly with Augur.\\r\\n\\r\\n\\r\\n== Works ==\\r\\nAugur's bust of Supreme Court Justice Oliver Ellsworth (c. 1837) is housed in the Old Supreme Court Chamber in the United States United States Capitol.  A portrait of Alexander Metcalf Fisher (c. 1827) and a neo-classical grouping, Jephthah and His Daughter (c. 1832), are in the Yale University art collection, and in 1833 Auger received an honorary degree from Yale University. He died on January 10, 1858, in New Haven and is buried in Grove Street Cemetery. He was a member of the Connecticut Academy of Arts and Sciences.\\r\\n\\r\\n\\r\\n== Sources ==\\r\\n\\r\\n\\r\\n== Sources ==\\r\\n\\r\\nCompilation of Works of Art and Other Objects in the United States Capitol,  Prepared by the Architect of the Capitol under the Joint Committee on the Library, United States Government Printing House, Washington,  1965\\r\\nCraven, Wayne, Sculpture in America, Thomas Y. Crowell Co, NY, NY  1968\\r\\nAugur, E. P., The Augur Family (Middletown, Connecticut, 1904)\\r\\nFreedman, Frank & Bernstein,  American Sculpture at Yale University, Yale University Art Gallery,  New Haven, Connecticut,  1992\\r\\nGreenthal, Kozol, Rameirez & Fairbanks, American Figurative Sculpture in the Museum of Fine Arts, Boston, Museum of Fine Arts, Boston  1986\\r\\nOpitz, Glenn B, Editor, Mantle Fielding\\u2019s Dictionary of American Painters, Sculptors & Engravers,  Apollo Book, Poughkeepsie NY, 1986\\r\\nTaft, Lorado, The History of American Sculpture, MacMillan Co., New York,  NY  1925\\r\\nAugur, Hezekiah (21 Feb 1791) in The Grove Encyclopedia of American Art ISBN 9780195335798\"\n        ],\n        \"semantic_type\": \"\",\n        \"description\": \"\"\n      }\n    }\n  ]\n}"
            }
          },
          "metadata": {},
          "execution_count": 2
        }
      ],
      "source": [
        "import pandas as pd\n",
        "df1 = pd.read_csv('/content/biography_cs.csv')\n",
        "df2 = pd.read_csv('/content/biography_sculptor.csv')\n",
        "df = pd.concat([df1, df2])\n",
        "df.head()\n",
        "df.tail()"
      ]
    },
    {
      "cell_type": "markdown",
      "source": [
        "# Vectorise the texts\n"
      ],
      "metadata": {
        "id": "yDW5mErVxaYn"
      }
    },
    {
      "cell_type": "code",
      "source": [
        "X = df['Content']\n",
        "Y = df['Category']\n",
        "X.head()"
      ],
      "metadata": {
        "colab": {
          "base_uri": "https://localhost:8080/"
        },
        "id": "QNgtTetdwlh9",
        "outputId": "1111c621-d767-4353-cbd6-210c3f61eea7"
      },
      "execution_count": 3,
      "outputs": [
        {
          "output_type": "execute_result",
          "data": {
            "text/plain": [
              "0    Atta ur Rehman Khan (Urdu: عطا الرحمن خان) is ...\n",
              "1    Willibrordus Martinus Pancratius van der Aalst...\n",
              "2    Scott Joel Aaronson (born May 21, 1981) is an ...\n",
              "3    Rediet Abebe (Amharic: ረድኤት አበበ) is an Ethiopi...\n",
              "4    Harold Abelson (born April 26, 1947) is an Ame...\n",
              "Name: Content, dtype: object"
            ]
          },
          "metadata": {},
          "execution_count": 3
        }
      ]
    },
    {
      "cell_type": "code",
      "source": [
        "import numpy as np\n",
        "from sklearn.cluster import MiniBatchKMeans\n",
        "from sklearn.feature_extraction.text import TfidfVectorizer\n",
        "from sklearn.decomposition import PCA\n",
        "import matplotlib.pyplot as plt\n",
        "import nltk\n",
        "from nltk import word_tokenize\n",
        "from nltk.corpus import stopwords"
      ],
      "metadata": {
        "id": "2JYf6yPlxzqF"
      },
      "execution_count": 4,
      "outputs": []
    },
    {
      "cell_type": "code",
      "source": [
        "!pip install nltk"
      ],
      "metadata": {
        "colab": {
          "base_uri": "https://localhost:8080/"
        },
        "id": "E3J5UgxEzA80",
        "outputId": "72ea2527-c7e8-47ba-f991-c91e9ee651e2"
      },
      "execution_count": 6,
      "outputs": [
        {
          "output_type": "stream",
          "name": "stdout",
          "text": [
            "Requirement already satisfied: nltk in /usr/local/lib/python3.10/dist-packages (3.8.1)\n",
            "Requirement already satisfied: click in /usr/local/lib/python3.10/dist-packages (from nltk) (8.1.7)\n",
            "Requirement already satisfied: joblib in /usr/local/lib/python3.10/dist-packages (from nltk) (1.4.2)\n",
            "Requirement already satisfied: regex>=2021.8.3 in /usr/local/lib/python3.10/dist-packages (from nltk) (2024.5.15)\n",
            "Requirement already satisfied: tqdm in /usr/local/lib/python3.10/dist-packages (from nltk) (4.66.4)\n"
          ]
        }
      ]
    },
    {
      "cell_type": "code",
      "source": [
        "\n",
        "nltk.download('punkt')"
      ],
      "metadata": {
        "colab": {
          "base_uri": "https://localhost:8080/"
        },
        "id": "7Zhvby1YzNbM",
        "outputId": "15d4596f-a0d5-4459-b5eb-2c931c9eec93"
      },
      "execution_count": 9,
      "outputs": [
        {
          "output_type": "stream",
          "name": "stderr",
          "text": [
            "[nltk_data] Downloading package punkt to /root/nltk_data...\n",
            "[nltk_data]   Package punkt is already up-to-date!\n"
          ]
        },
        {
          "output_type": "execute_result",
          "data": {
            "text/plain": [
              "True"
            ]
          },
          "metadata": {},
          "execution_count": 9
        }
      ]
    },
    {
      "cell_type": "code",
      "source": [
        "# Using TFIDF vectorizer to convert convert words to Vector Space\n",
        "tfidf_vectorizer = TfidfVectorizer(max_features=500,\n",
        "                                       use_idf=True,\n",
        "                                       stop_words='english',\n",
        "                                       tokenizer=nltk.word_tokenize,\n",
        "                                       ngram_range=(1, 1))\n",
        "\n",
        "# Fit the vectorizer to text data\n",
        "tfidf_matrix = tfidf_vectorizer.fit_transform(X)"
      ],
      "metadata": {
        "id": "TAEhJA_6ycvz"
      },
      "execution_count": 11,
      "outputs": []
    },
    {
      "cell_type": "code",
      "source": [
        "features = tfidf_vectorizer.get_feature_names_out()\n",
        "print(features)"
      ],
      "metadata": {
        "colab": {
          "base_uri": "https://localhost:8080/"
        },
        "collapsed": true,
        "id": "tu0KWA6w0YW-",
        "outputId": "e087d254-3d1c-4b79-c6ea-75f23ef8e213"
      },
      "execution_count": 12,
      "outputs": [
        {
          "output_type": "stream",
          "name": "stdout",
          "text": [
            "['$' '&' \"'\" \"''\" \"'s\" '(' ')' ',' '-' '.' '...' '1' '10' '1973' '1980'\n",
            " '1982' '1985' '1986' '1987' '1988' '1989' '1990' '1991' '1992' '1993'\n",
            " '1994' '1995' '1996' '1997' '1998' '1999' '2' '20' '2000' '2001' '2002'\n",
            " '2003' '2004' '2005' '2006' '2007' '2008' '2009' '2010' '2011' '2012'\n",
            " '2013' '2014' '2015' '2016' '2017' '2018' '2019' '2020' '2021' '2022'\n",
            " '2023' '3' '4' '5' '8' ':' ';' '==' '===' '====' '[' ']' '``' 'a.'\n",
            " 'academic' 'academy' 'according' 'achievement' 'acm' 'ada' 'advanced'\n",
            " 'age' 'ai' 'alan' 'algol' 'algorithm' 'algorithms' 'american' 'analysis'\n",
            " 'apple' 'application' 'applications' 'applied' 'approach' 'april'\n",
            " 'architecture' 'archived' 'area' 'art' 'article' 'articles' 'artificial'\n",
            " 'artist' 'arts' 'assistant' 'associate' 'association' 'attended' 'august'\n",
            " 'author' 'award' 'awarded' 'awards' 'babbage' 'bachelor' 'based' 'basic'\n",
            " 'began' 'bell' 'berkeley' 'best' 'bezos' 'biography' 'board' 'book'\n",
            " 'books' 'born' 'botvinnik' 'british' 'building' 'built' 'business' 'c.'\n",
            " 'california' 'called' 'cambridge' 'career' 'carnegie' 'center' 'chair'\n",
            " 'charles' 'chess' 'chief' 'children' 'church' 'city' 'code' 'college'\n",
            " 'committee' 'communication' 'communications' 'community' 'company'\n",
            " 'compiler' 'completed' 'complexity' 'computation' 'computational'\n",
            " 'computer' 'computers' 'computing' 'conference' 'considered' 'continued'\n",
            " 'contributions' 'control' 'corporation' 'course' 'create' 'created'\n",
            " 'cryptography' 'd.' 'data' 'database' 'david' 'death' 'december' 'degree'\n",
            " 'department' 'described' 'description' 'design' 'designed' 'developed'\n",
            " 'developing' 'development' 'did' 'died' 'different' 'digital' 'director'\n",
            " 'distinguished' 'distributed' 'e.' 'early' 'earned' 'editor' 'education'\n",
            " 'elected' 'electrical' 'electronic' 'engine' 'engineer' 'engineering'\n",
            " 'engineers' 'english' 'enterprise' 'external' 'faculty' 'family' 'father'\n",
            " 'february' 'fellow' 'field' 'film' 'following' 'form' 'formal'\n",
            " 'foundation' 'foundations' 'founded' 'founding' 'free' 'future' 'gallery'\n",
            " 'game' 'games' 'gates' 'general' 'george' 'german' 'germany' 'given'\n",
            " 'google' 'government' 'graduate' 'group' 'gödel' 'h.' 'hall' 'harvard'\n",
            " 'head' 'held' 'helped' 'high' 'history' 'home' 'honorary' 'honors'\n",
            " 'hopper' 'house' 'human' 'ibm' 'ideas' 'ieee' 'ii' 'implementation'\n",
            " 'important' 'inc.' 'include' 'included' 'including' 'industry'\n",
            " 'influential' 'information' 'institute' 'intelligence' 'interaction'\n",
            " 'international' 'internet' 'interview' 'introduced' 'involved' 'isbn'\n",
            " 'j.' 'james' 'january' 'john' 'joined' 'journal' 'july' 'june' 'key'\n",
            " 'knowledge' 'known' 'l.' 'laboratory' 'labs' 'language' 'languages'\n",
            " 'large' 'late' 'later' 'learning' 'lecture' 'led' 'left' 'library' 'life'\n",
            " 'like' 'links' 'list' 'logic' 'london' 'lovelace' 'm.' 'machine'\n",
            " 'machinery' 'machines' 'major' 'make' 'making' 'management' 'march'\n",
            " 'married' 'martin' 'massachusetts' 'master' 'mathematical'\n",
            " 'mathematician' 'mathematics' 'medal' 'media' 'member' 'method' 'methods'\n",
            " 'michael' 'microsoft' 'million' 'mit' 'model' 'modeling' 'models'\n",
            " 'modern' 'moore' 'mother' 'moved' 'museum' 'named' 'national' 'natural'\n",
            " 'network' 'networks' 'neumann' 'new' 'notes' 'november' 'number'\n",
            " 'october' 'official' 'online' 'open' 'operating' 'order' 'original' 'p.'\n",
            " 'page' 'paper' 'papers' 'parallel' 'paris' 'park' 'paul' 'pdf' 'people'\n",
            " 'performance' 'personal' 'peter' 'ph.d.' 'phd' 'philosophy' 'physics'\n",
            " 'pioneer' 'position' 'pp' 'presented' 'president' 'press' 'princeton'\n",
            " 'principles' 'prize' 'problem' 'problems' 'proceedings' 'process'\n",
            " 'processing' 'professor' 'program' 'programming' 'programs' 'project'\n",
            " 'projects' 'public' 'publications' 'published' 'r.' 'reading' 'received'\n",
            " 'recognition' 'references' 'related' 'research' 'retrieved' 'richard'\n",
            " 'robert' 'role' 'royal' 's' 's.' 's2cid' 'said' 'san' 'school' 'science'\n",
            " 'sciences' 'scientific' 'scientist' 'scientists' 'sculptor' 'sculpture'\n",
            " 'sculptures' 'search' 'second' 'security' 'selected' 'senior' 'september'\n",
            " 'series' 'served' 'service' 'set' 'simon' 'social' 'society' 'software'\n",
            " 'source' 'space' 'stanford' 'started' 'state' 'states' 'student'\n",
            " 'students' 'studied' 'studies' 'study' 'support' 'systems' 'teaching'\n",
            " 'team' 'technical' 'technologies' 'technology' 'theoretical' 'theory'\n",
            " 'thesis' 'time' 'times' 'took' 'turing' 'u.s.' 'united' 'university'\n",
            " 'unix' 'use' 'used' 'user' 'using' 'van' 'various' 'version' 'video'\n",
            " 'vol' 'von' 'w.' 'war' 'washington' 'way' 'web' 'website' 'went' 'widely'\n",
            " 'wife' 'william' 'women' 'won' 'work' 'worked' 'working' 'works' 'world'\n",
            " 'wozniak' 'written' 'wrote' 'year' 'years' 'york' 'young' 'zuckerberg'\n",
            " '{' '}' '–' '—' '’']\n"
          ]
        }
      ]
    },
    {
      "cell_type": "markdown",
      "source": [
        "# K-means clustering"
      ],
      "metadata": {
        "id": "B_auyrgG0jl6"
      }
    },
    {
      "cell_type": "code",
      "source": [
        "from sklearn.cluster import KMeans\n",
        "\n",
        "# Kmeans++\n",
        "km = KMeans(n_clusters=2, init='k-means++', max_iter=300, n_init=5, verbose=0, random_state=3425)\n",
        "km.fit(tfidf_matrix)\n",
        "# cluster assignement (list showing the cluster assigned to each instance)\n",
        "predicted_labels = km.labels_\n",
        "clusters = predicted_labels.tolist()"
      ],
      "metadata": {
        "id": "59W6qt3g0fhe"
      },
      "execution_count": 13,
      "outputs": []
    },
    {
      "cell_type": "code",
      "source": [
        "print(predicted_labels)"
      ],
      "metadata": {
        "colab": {
          "base_uri": "https://localhost:8080/"
        },
        "id": "dPTKfCJ-07RQ",
        "outputId": "55c8b67d-f624-48d7-fe51-45719ac42c9f"
      },
      "execution_count": 14,
      "outputs": [
        {
          "output_type": "stream",
          "name": "stdout",
          "text": [
            "[0 0 0 0 0 0 0 0 1 0 0 0 0 0 0 0 0 0 0 0 0 0 0 0 0 0 1 0 0 0 0 0 0 0 0 0 0\n",
            " 0 0 0 0 0 0 1 0 0 0 0 0 0 0 0 0 0 1 0 0 0 0 0 0 0 0 0 0 0 0 1 0 0 0 0 0 1\n",
            " 0 0 0 0 0 0 0 0 0 0 0 0 0 0 0 0 0 0 0 1 0 0 0 0 0 0 0 0 0 0 0 0 0 0 0 0 0\n",
            " 0 0 0 0 0 0 0 0 0 0 0 0 0 0 0 0 0 0 0 0 0 0 0 0 0 0 0 0 0 0 0 0 0 0 0 0 0\n",
            " 0 0 0 0 0 0 0 0 0 0 0 0 0 0 0 0 0 0 0 0 1 0 0 0 0 0 0 1 0 0 0 0 0 0 0 0 0\n",
            " 0 0 0 0 0 0 0 0 0 0 0 0 0 0 0 0 0 0 0 0 0 1 0 0 0 0 0 0 0 0 1 0 0 0 0 0 0\n",
            " 0 0 0 0 0 0 0 0 0 0 0 1 0 0 0 1 0 0 0 0 0 0 0 0 0 0 0 0 0 0 0 0 0 0 0 0 0\n",
            " 0 0 0 0 0 1 0 0 0 0 0 0 0 0 0 0 0 0 0 1 0 0 0 0 0 0 0 0 0 0 0 0 0 0 1 0 0\n",
            " 0 0 0 0 0 0 0 0 0 0 1 0 0 0 0 0 0 0 0 0 0 0 0 0 0 0 0 0 0 0 0 0 0 0 0 0 0\n",
            " 0 0 0 0 0 0 0 0 0 0 0 0 0 1 0 0 0 0 0 0 0 0 1 0 0 0 0 0 0 0 0 0 0 0 0 0 0\n",
            " 1 0 0 0 0 0 0 0 0 0 1 0 0 0 0 0 0 0 0 0 0 0 0 0 0 0 1 0 0 0 0 0 0 0 0 0 0\n",
            " 0 0 0 0 0 0 0 0 0 1 0 0 0 0 0 0 1 0 0 0 1 0 0 0 0 0 0 0 0 0 0 0 0 0 0 0 0\n",
            " 0 0 0 0 0 0 0 0 0 0 0 0 0 0 0 0 0 1 0 0 0 1 0 0 0 0 0 0 0 1 0 0 0 0 0 0 0\n",
            " 0 0 0 0 0 0 0 0 0 0 0 0 0 0 0 0 1 0 0 0 0 0 0 0 0 0 0 0 0 0 0 0 0 0 0 0 0\n",
            " 0 0 0 0 0 0 0 0 0 0 0 0 0 0 0 0 0 0 0 0 0 0 0 0 0 0 0 0 0 0 0 0 0 1 0 0 0\n",
            " 0 0 0 0 0 1 0 0 0 0 0 0 0 0 0 0 0 0 1 0 0 0 0 0 0 0 0 0 0 0 0 0 0 1 0 0 1\n",
            " 0 0 0 0 0 0 0 0 0 1 0 0 0 0 0 0 0 0 0 0 0 0 0 0 0 0 0 0 0 0 0 0 0 0 0 0 0\n",
            " 0 0 0 0 0 0 0 0 0 0 0 0 0 0 0 0 1 0 0 0 0 0 0 0 0 0 0 0 1 0 0 1 0 0 0 0 0\n",
            " 0 0 0 0 0 0 0 0 0 0 0 0 0 0 0 0 0 0 0 0 0 0 0 0 0 0 0 0 0 0 0 0 0 0 0 0 0\n",
            " 1 0 0 0 0 0 0 0 0 0 0 0 0 0 0 0 0 1 0 0 0 0 0 0 1 0 0 0 0 0 0 0 0 0 0 0 0\n",
            " 0 0 0]\n"
          ]
        }
      ]
    },
    {
      "cell_type": "markdown",
      "source": [
        "## Inspecting Clustering Results"
      ],
      "metadata": {
        "id": "P9KrAPld1HLT"
      }
    },
    {
      "cell_type": "code",
      "source": [
        "df['cluster'] = clusters\n",
        "df['cluster'].value_counts()"
      ],
      "metadata": {
        "colab": {
          "base_uri": "https://localhost:8080/"
        },
        "id": "7lcVRrds1IWf",
        "outputId": "c8c025c7-7dd9-4986-f663-0e6284f5427d"
      },
      "execution_count": 18,
      "outputs": [
        {
          "output_type": "execute_result",
          "data": {
            "text/plain": [
              "cluster\n",
              "0    702\n",
              "1     41\n",
              "Name: count, dtype: int64"
            ]
          },
          "metadata": {},
          "execution_count": 18
        }
      ]
    },
    {
      "cell_type": "code",
      "source": [
        "from sklearn import metrics\n",
        "labels= df['Category']\n",
        "print( labels)\n",
        "print( km.labels_)\n",
        "\n",
        "print(\"Homogeneity: %0.3f\" % metrics.homogeneity_score(labels, km.labels_))\n",
        "print(\"Completeness: %0.3f\" % metrics.completeness_score(labels, km.labels_))\n",
        "print(\"V-measure: %0.3f\" % metrics.v_measure_score(labels, km.labels_))\n",
        "print(\"Adjusted Rand-Index: %.3f\"\n",
        "      % metrics.adjusted_rand_score(labels, km.labels_))\n",
        "print(\"Silhouette Coefficient: %0.3f\"\n",
        "      % metrics.silhouette_score(tfidf_matrix, km.labels_, sample_size=1000))\n",
        "\n",
        "print()"
      ],
      "metadata": {
        "colab": {
          "base_uri": "https://localhost:8080/"
        },
        "id": "nNgSJLLK4DcN",
        "outputId": "98a1a5e7-eee1-4b15-a74d-624b30e16eff"
      },
      "execution_count": 21,
      "outputs": [
        {
          "output_type": "stream",
          "name": "stdout",
          "text": [
            "0     Computer_Scientists\n",
            "1     Computer_Scientists\n",
            "2     Computer_Scientists\n",
            "3     Computer_Scientists\n",
            "4     Computer_Scientists\n",
            "             ...         \n",
            "92              Sculptors\n",
            "93              Sculptors\n",
            "94              Sculptors\n",
            "95              Sculptors\n",
            "96              Sculptors\n",
            "Name: Category, Length: 743, dtype: object\n",
            "[0 0 0 0 0 0 0 0 1 0 0 0 0 0 0 0 0 0 0 0 0 0 0 0 0 0 1 0 0 0 0 0 0 0 0 0 0\n",
            " 0 0 0 0 0 0 1 0 0 0 0 0 0 0 0 0 0 1 0 0 0 0 0 0 0 0 0 0 0 0 1 0 0 0 0 0 1\n",
            " 0 0 0 0 0 0 0 0 0 0 0 0 0 0 0 0 0 0 0 1 0 0 0 0 0 0 0 0 0 0 0 0 0 0 0 0 0\n",
            " 0 0 0 0 0 0 0 0 0 0 0 0 0 0 0 0 0 0 0 0 0 0 0 0 0 0 0 0 0 0 0 0 0 0 0 0 0\n",
            " 0 0 0 0 0 0 0 0 0 0 0 0 0 0 0 0 0 0 0 0 1 0 0 0 0 0 0 1 0 0 0 0 0 0 0 0 0\n",
            " 0 0 0 0 0 0 0 0 0 0 0 0 0 0 0 0 0 0 0 0 0 1 0 0 0 0 0 0 0 0 1 0 0 0 0 0 0\n",
            " 0 0 0 0 0 0 0 0 0 0 0 1 0 0 0 1 0 0 0 0 0 0 0 0 0 0 0 0 0 0 0 0 0 0 0 0 0\n",
            " 0 0 0 0 0 1 0 0 0 0 0 0 0 0 0 0 0 0 0 1 0 0 0 0 0 0 0 0 0 0 0 0 0 0 1 0 0\n",
            " 0 0 0 0 0 0 0 0 0 0 1 0 0 0 0 0 0 0 0 0 0 0 0 0 0 0 0 0 0 0 0 0 0 0 0 0 0\n",
            " 0 0 0 0 0 0 0 0 0 0 0 0 0 1 0 0 0 0 0 0 0 0 1 0 0 0 0 0 0 0 0 0 0 0 0 0 0\n",
            " 1 0 0 0 0 0 0 0 0 0 1 0 0 0 0 0 0 0 0 0 0 0 0 0 0 0 1 0 0 0 0 0 0 0 0 0 0\n",
            " 0 0 0 0 0 0 0 0 0 1 0 0 0 0 0 0 1 0 0 0 1 0 0 0 0 0 0 0 0 0 0 0 0 0 0 0 0\n",
            " 0 0 0 0 0 0 0 0 0 0 0 0 0 0 0 0 0 1 0 0 0 1 0 0 0 0 0 0 0 1 0 0 0 0 0 0 0\n",
            " 0 0 0 0 0 0 0 0 0 0 0 0 0 0 0 0 1 0 0 0 0 0 0 0 0 0 0 0 0 0 0 0 0 0 0 0 0\n",
            " 0 0 0 0 0 0 0 0 0 0 0 0 0 0 0 0 0 0 0 0 0 0 0 0 0 0 0 0 0 0 0 0 0 1 0 0 0\n",
            " 0 0 0 0 0 1 0 0 0 0 0 0 0 0 0 0 0 0 1 0 0 0 0 0 0 0 0 0 0 0 0 0 0 1 0 0 1\n",
            " 0 0 0 0 0 0 0 0 0 1 0 0 0 0 0 0 0 0 0 0 0 0 0 0 0 0 0 0 0 0 0 0 0 0 0 0 0\n",
            " 0 0 0 0 0 0 0 0 0 0 0 0 0 0 0 0 1 0 0 0 0 0 0 0 0 0 0 0 1 0 0 1 0 0 0 0 0\n",
            " 0 0 0 0 0 0 0 0 0 0 0 0 0 0 0 0 0 0 0 0 0 0 0 0 0 0 0 0 0 0 0 0 0 0 0 0 0\n",
            " 1 0 0 0 0 0 0 0 0 0 0 0 0 0 0 0 0 1 0 0 0 0 0 0 1 0 0 0 0 0 0 0 0 0 0 0 0\n",
            " 0 0 0]\n",
            "Homogeneity: 0.000\n",
            "Completeness: 0.000\n",
            "V-measure: 0.000\n",
            "Adjusted Rand-Index: -0.005\n",
            "Silhouette Coefficient: 0.185\n",
            "\n"
          ]
        }
      ]
    }
  ]
}