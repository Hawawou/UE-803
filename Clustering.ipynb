{
  "nbformat": 4,
  "nbformat_minor": 0,
  "metadata": {
    "colab": {
      "provenance": [],
      "authorship_tag": "ABX9TyNviTB6+ymZ7nbggCv3hIGI"
    },
    "kernelspec": {
      "name": "python3",
      "display_name": "Python 3"
    },
    "language_info": {
      "name": "python"
    }
  },
  "cells": [
    {
      "cell_type": "code",
      "execution_count": 24,
      "metadata": {
        "id": "Vm2cwkfFSn0C"
      },
      "outputs": [],
      "source": [
        "import pandas as pd\n",
        "import numpy as np\n",
        "import matplotlib.pyplot as plt\n",
        "from sklearn.feature_extraction.text import TfidfVectorizer\n",
        "from sklearn.cluster import KMeans\n",
        "from sklearn.metrics import silhouette_score\n",
        "from sklearn.preprocessing import StandardScaler\n",
        "from sklearn.decomposition import PCA\n",
        "import os\n",
        "import json\n"
      ]
    },
    {
      "cell_type": "code",
      "source": [
        "data1 = \"/content/biography_cs.csv\"\n",
        "data = pd.concat([pd.read_csv(data1)])"
      ],
      "metadata": {
        "id": "8lMGYLChSvVv"
      },
      "execution_count": 22,
      "outputs": []
    },
    {
      "cell_type": "code",
      "source": [
        "data2= \"/content/biography_sculptor.csv\"\n",
        "data = pd.concat([pd.read_csv(data2)])"
      ],
      "metadata": {
        "id": "AryQZv_gV14S"
      },
      "execution_count": 5,
      "outputs": []
    },
    {
      "cell_type": "code",
      "source": [
        "vectorizer = TfidfVectorizer()\n",
        "X = vectorizer.fit_transform(data[\"Content\"])"
      ],
      "metadata": {
        "id": "0P-uQi27WZPq"
      },
      "execution_count": 15,
      "outputs": []
    },
    {
      "cell_type": "code",
      "source": [
        "data_frame = pd.read_csv(\"/content/biography_cs.csv\")\n"
      ],
      "metadata": {
        "id": "zyR0h2RfcrUJ"
      },
      "execution_count": 26,
      "outputs": []
    },
    {
      "cell_type": "code",
      "source": [
        "def create_knowledge_graph(csv_file_path):\n",
        "    biography_df = pd.read_csv(csv_file_path)\n",
        "    os.makedirs(\"biographies\", exist_ok=True)\n",
        "    os.makedirs(\"kg_graphs\", exist_ok=True)\n",
        "    for idx, row in biography_df.iterrows():\n",
        "        filename = f\"biographies/{row['Name']}.txt\"\n",
        "        with open(filename, \"w\") as file:\n",
        "            file.write(row['Content'])\n",
        "        kg_graph = {\n",
        "            \"Name\": row['Name'],\n",
        "            \"Category\": row['Category'],\n",
        "            \"Content\": row['Content']\n",
        "        }\n",
        "        with open(f\"kg_graphs/{row['Name']}.json\", \"w\") as json_file:\n",
        "            json.dump(kg_graph, json_file, indent=4)\n",
        "    print(\"Knowledge graph created and files saved.\")\n",
        "create_knowledge_graph(\"/content/biography_cs.csv\")\n"
      ],
      "metadata": {
        "id": "umdk3uaWmOfg"
      },
      "execution_count": null,
      "outputs": []
    },
    {
      "cell_type": "code",
      "source": [
        "def merge_json_files(directory):\n",
        "    merged_contents = {}\n",
        "    for filename in os.listdir(directory):\n",
        "        if filename.endswith(\".json\"):\n",
        "            filepath = os.path.join(directory, filename)\n",
        "            with open(filepath, \"r\", encoding=\"utf-8\") as file_in:\n",
        "                data = json.load(file_in)\n",
        "                sculptor_name = data[\"Name\"]\n",
        "                merged_contents[sculptor_name] = data\n",
        "\n",
        "    # Save the merged knowledge graph as a single JSON file\n",
        "    with open(\"sculptors.json\", \"w\") as json_file:\n",
        "        json.dump(merged_contents, json_file, indent=4)\n",
        "\n",
        "    print(\"sculptors.json'.\")\n",
        "sculptor_directory = \"/content/kg_graphs\"\n",
        "merge_json_files(sculptor_directory)\n"
      ],
      "metadata": {
        "id": "WHpIfyZtn77B"
      },
      "execution_count": null,
      "outputs": []
    }
  ]
}