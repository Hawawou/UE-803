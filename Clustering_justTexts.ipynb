{
  "cells": [
    {
      "cell_type": "markdown",
      "metadata": {
        "colab_type": "text",
        "id": "view-in-github"
      },
      "source": [
        "<a href=\"https://colab.research.google.com/github/Hawawou/UE-803/blob/main/Clustering_justTexts.ipynb\" target=\"_parent\"><img src=\"https://colab.research.google.com/assets/colab-badge.svg\" alt=\"Open In Colab\"/></a>"
      ]
    },
    {
      "cell_type": "code",
      "execution_count": 2,
      "metadata": {
        "id": "K2DuOK0oLehm"
      },
      "outputs": [],
      "source": [
        "import re"
      ]
    },
    {
      "cell_type": "code",
      "execution_count": 1,
      "metadata": {
        "colab": {
          "base_uri": "https://localhost:8080/",
          "height": 206
        },
        "id": "PY3PW5rkuUSH",
        "outputId": "5abcd745-16fa-4b25-f2d9-45c87bbc8b35"
      },
      "outputs": [
        {
          "data": {
            "text/html": [
              "<div>\n",
              "<style scoped>\n",
              "    .dataframe tbody tr th:only-of-type {\n",
              "        vertical-align: middle;\n",
              "    }\n",
              "\n",
              "    .dataframe tbody tr th {\n",
              "        vertical-align: top;\n",
              "    }\n",
              "\n",
              "    .dataframe thead th {\n",
              "        text-align: right;\n",
              "    }\n",
              "</style>\n",
              "<table border=\"1\" class=\"dataframe\">\n",
              "  <thead>\n",
              "    <tr style=\"text-align: right;\">\n",
              "      <th></th>\n",
              "      <th>Category</th>\n",
              "      <th>Name</th>\n",
              "      <th>Content</th>\n",
              "    </tr>\n",
              "  </thead>\n",
              "  <tbody>\n",
              "    <tr>\n",
              "      <th>90</th>\n",
              "      <td>Sculptors</td>\n",
              "      <td>Evelin Winifred Aston</td>\n",
              "      <td>evelin winifred aston later evelin leigh 22 ja...</td>\n",
              "    </tr>\n",
              "    <tr>\n",
              "      <th>91</th>\n",
              "      <td>Sculptors</td>\n",
              "      <td>Karel Aubroeck</td>\n",
              "      <td>karel aubroeck 28 august 1894 – 28 july 1986 f...</td>\n",
              "    </tr>\n",
              "    <tr>\n",
              "      <th>92</th>\n",
              "      <td>Sculptors</td>\n",
              "      <td>Mary Audsley</td>\n",
              "      <td>mary c audsley 19192008 british painter sculpt...</td>\n",
              "    </tr>\n",
              "    <tr>\n",
              "      <th>93</th>\n",
              "      <td>Sculptors</td>\n",
              "      <td>Hezekiah Augur</td>\n",
              "      <td>hezekiah augur february 21 1791 – january 10 1...</td>\n",
              "    </tr>\n",
              "    <tr>\n",
              "      <th>94</th>\n",
              "      <td>Sculptors</td>\n",
              "      <td>Antun Augustinčić</td>\n",
              "      <td>antun augustinčić 4 may 1900 – 10 may 1979 cro...</td>\n",
              "    </tr>\n",
              "  </tbody>\n",
              "</table>\n",
              "</div>"
            ],
            "text/plain": [
              "     Category                   Name  \\\n",
              "90  Sculptors  Evelin Winifred Aston   \n",
              "91  Sculptors         Karel Aubroeck   \n",
              "92  Sculptors           Mary Audsley   \n",
              "93  Sculptors         Hezekiah Augur   \n",
              "94  Sculptors      Antun Augustinčić   \n",
              "\n",
              "                                              Content  \n",
              "90  evelin winifred aston later evelin leigh 22 ja...  \n",
              "91  karel aubroeck 28 august 1894 – 28 july 1986 f...  \n",
              "92  mary c audsley 19192008 british painter sculpt...  \n",
              "93  hezekiah augur february 21 1791 – january 10 1...  \n",
              "94  antun augustinčić 4 may 1900 – 10 may 1979 cro...  "
            ]
          },
          "execution_count": 1,
          "metadata": {},
          "output_type": "execute_result"
        }
      ],
      "source": [
        "import pandas as pd\n",
        "df1 = pd.read_csv('cleaned_computer_sc.csv')\n",
        "df2 = pd.read_csv('cleaned_sculptors.csv')\n",
        "df = pd.concat([df1, df2])\n",
        "df.head()\n",
        "df.tail()"
      ]
    },
    {
      "cell_type": "markdown",
      "metadata": {
        "id": "yDW5mErVxaYn"
      },
      "source": [
        "# Vectorise the texts\n"
      ]
    },
    {
      "cell_type": "code",
      "execution_count": 3,
      "metadata": {
        "colab": {
          "base_uri": "https://localhost:8080/"
        },
        "id": "QNgtTetdwlh9",
        "outputId": "96f197c3-7828-423a-f37c-7ca6cbdfbaa9"
      },
      "outputs": [
        {
          "data": {
            "text/plain": [
              "0    atta ur rehman khan urdu عطا الرحمن خان comput...\n",
              "1    willibrordus martinus pancratius van der aalst...\n",
              "2    scott joel aaronson born may 21 1981 american ...\n",
              "3    rediet abebe amharic ረድኤት አበበ ethiopian comput...\n",
              "4    harold abelson born april 26 1947 american mat...\n",
              "Name: Content, dtype: object"
            ]
          },
          "execution_count": 3,
          "metadata": {},
          "output_type": "execute_result"
        }
      ],
      "source": [
        "X = df['Content']\n",
        "Y = df['Category']\n",
        "X.head()"
      ]
    },
    {
      "cell_type": "code",
      "execution_count": 4,
      "metadata": {
        "id": "2JYf6yPlxzqF"
      },
      "outputs": [],
      "source": [
        "import numpy as np\n",
        "from sklearn.cluster import MiniBatchKMeans\n",
        "from sklearn.feature_extraction.text import TfidfVectorizer\n",
        "from sklearn.decomposition import PCA\n",
        "import matplotlib.pyplot as plt\n",
        "import nltk\n",
        "from nltk import word_tokenize\n",
        "from nltk.corpus import stopwords"
      ]
    },
    {
      "cell_type": "code",
      "execution_count": 5,
      "metadata": {
        "colab": {
          "base_uri": "https://localhost:8080/"
        },
        "id": "E3J5UgxEzA80",
        "outputId": "72ea2527-c7e8-47ba-f991-c91e9ee651e2"
      },
      "outputs": [
        {
          "name": "stdout",
          "output_type": "stream",
          "text": [
            "Requirement already satisfied: nltk in ./venv/lib/python3.10/site-packages (3.8.1)\n",
            "Requirement already satisfied: click in ./venv/lib/python3.10/site-packages (from nltk) (8.1.7)\n",
            "Requirement already satisfied: joblib in ./venv/lib/python3.10/site-packages (from nltk) (1.4.2)\n",
            "Requirement already satisfied: regex>=2021.8.3 in ./venv/lib/python3.10/site-packages (from nltk) (2024.4.28)\n",
            "Requirement already satisfied: tqdm in ./venv/lib/python3.10/site-packages (from nltk) (4.66.4)\n"
          ]
        }
      ],
      "source": [
        "!pip install nltk"
      ]
    },
    {
      "cell_type": "code",
      "execution_count": 6,
      "metadata": {
        "colab": {
          "base_uri": "https://localhost:8080/"
        },
        "id": "7Zhvby1YzNbM",
        "outputId": "abc6ded7-0ea8-40d9-f3f1-b23d8236f129"
      },
      "outputs": [
        {
          "name": "stderr",
          "output_type": "stream",
          "text": [
            "[nltk_data] Downloading package punkt to /home/oumar/nltk_data...\n",
            "[nltk_data]   Package punkt is already up-to-date!\n"
          ]
        },
        {
          "data": {
            "text/plain": [
              "True"
            ]
          },
          "execution_count": 6,
          "metadata": {},
          "output_type": "execute_result"
        }
      ],
      "source": [
        "\n",
        "nltk.download('punkt')"
      ]
    },
    {
      "cell_type": "code",
      "execution_count": 19,
      "metadata": {
        "id": "M7fEZUEKLY2e"
      },
      "outputs": [],
      "source": [
        "def remove_years(text):\n",
        "    # Regex to remove four-digit numbers (years)\n",
        "    return re.sub(r'\\b\\d{4}\\b', '', text)\n",
        "\n",
        "# Apply the remove_years function to all text data\n",
        "X_cleaned = [remove_years(text) for text in X]\n",
        "X = X_cleaned"
      ]
    },
    {
      "cell_type": "code",
      "execution_count": 22,
      "metadata": {},
      "outputs": [],
      "source": [
        "from sklearn.model_selection import train_test_split\n",
        "X_train, X_test, y_train, y_test = train_test_split(X, Y, test_size=0.2, random_state=42, shuffle=True)"
      ]
    },
    {
      "cell_type": "code",
      "execution_count": 27,
      "metadata": {
        "colab": {
          "base_uri": "https://localhost:8080/"
        },
        "id": "TAEhJA_6ycvz",
        "outputId": "30c41020-991b-4156-b25f-f8aca12f508d"
      },
      "outputs": [
        {
          "name": "stderr",
          "output_type": "stream",
          "text": [
            "/home/oumar/Projects/UE-803/venv/lib/python3.10/site-packages/sklearn/feature_extraction/text.py:523: UserWarning: The parameter 'token_pattern' will not be used since 'tokenizer' is not None'\n",
            "  warnings.warn(\n"
          ]
        },
        {
          "name": "stdout",
          "output_type": "stream",
          "text": [
            "(38, 200)\n",
            "(151, 200)\n"
          ]
        }
      ],
      "source": [
        "# Using TFIDF vectorizer to convert convert words to Vector Space\n",
        "tfidf_vectorizer = TfidfVectorizer(max_features=200,\n",
        "                                       use_idf=True,\n",
        "                                       stop_words='english',\n",
        "                                       tokenizer=nltk.word_tokenize,\n",
        "                                       ngram_range=(1, 1))\n",
        "\n",
        "# Fit the vectorizer to text data\n",
        "# tfidf_matrix = tfidf_vectorizer.fit_transform(X_cleaned)\n",
        "X_train_matrix = tfidf_vectorizer.fit_transform(X_train)\n",
        "X_test_matrix = tfidf_vectorizer.transform(X_test)\n",
        "print(X_test_matrix.shape)\n",
        "print(X_train_matrix.shape)"
      ]
    },
    {
      "cell_type": "code",
      "execution_count": 11,
      "metadata": {
        "colab": {
          "base_uri": "https://localhost:8080/"
        },
        "collapsed": true,
        "id": "tu0KWA6w0YW-",
        "outputId": "6a0b824b-c881-4516-9fe2-78a9966f17b8"
      },
      "outputs": [
        {
          "name": "stdout",
          "output_type": "stream",
          "text": [
            "['1' '1995' '2' '2000' '2002' '2003' '2007' '2008' '2009' '2010' '2011'\n",
            " '2013' '2014' '2015' '2017' '2018' '2019' 'academy' 'acm' 'age' 'alberti'\n",
            " 'amazon' 'american' 'april' 'architecture' 'art' 'artist' 'artists'\n",
            " 'arts' 'asawa' 'association' 'august' 'award' 'awarded' 'awards'\n",
            " 'babbage' 'based' 'began' 'best' 'bezos' 'biography' 'board' 'book'\n",
            " 'books' 'boole' 'born' 'botvinnik' 'bronze' 'building' 'business'\n",
            " 'california' 'called' 'career' 'carmack' 'center' 'cerf' 'championship'\n",
            " 'charles' 'chess' 'church' 'city' 'college' 'company' 'computer'\n",
            " 'computers' 'computing' 'conference' 'contributions' 'created' 'data'\n",
            " 'david' 'death' 'degree' 'department' 'design' 'designed' 'developed'\n",
            " 'development' 'died' 'digital' 'early' 'education' 'engineering'\n",
            " 'exhibition' 'external' 'family' 'father' 'fellow' 'fine' 'foundation'\n",
            " 'gallery' 'george' 'germany' 'group' 'high' 'history' 'ibm' 'ieee'\n",
            " 'including' 'information' 'institute' 'international' 'internet' 'inuit'\n",
            " 'isbn' 'j' 'january' 'john' 'journal' 'july' 'june' 'known' 'language'\n",
            " 'later' 'leeds' 'life' 'links' 'logic' 'london' 'major' 'management'\n",
            " 'march' 'married' 'mathematical' 'mathematics' 'medal' 'media' 'member'\n",
            " 'model' 'modern' 'moved' 'museum' 'named' 'national' 'network' 'new'\n",
            " 'november' 'number' 'operating' 'paper' 'paris' 'phd' 'pp' 'prize'\n",
            " 'process' 'professor' 'program' 'programming' 'project' 'public'\n",
            " 'publications' 'published' 'received' 'references' 'related' 'research'\n",
            " 'royal' 'san' 'school' 'science' 'sciences' 'scientist' 'sculptor'\n",
            " 'sculpture' 'sculptures' 'september' 'series' 'society' 'software'\n",
            " 'soviet' 'st' 'state' 'states' 'stone' 'studied' 'systems' 'technical'\n",
            " 'technology' 'theory' 'time' 'united' 'university' 'use' 'used' 'using'\n",
            " 'vol' 'war' 'washington' 'web' 'women' 'work' 'worked' 'working' 'works'\n",
            " 'world' 'wrote' 'year' 'years' 'york' '–']\n"
          ]
        }
      ],
      "source": [
        "features = tfidf_vectorizer.get_feature_names_out()\n",
        "print(features)"
      ]
    },
    {
      "cell_type": "markdown",
      "metadata": {
        "id": "B_auyrgG0jl6"
      },
      "source": [
        "# K-means clustering"
      ]
    },
    {
      "cell_type": "code",
      "execution_count": 19,
      "metadata": {
        "id": "59W6qt3g0fhe"
      },
      "outputs": [],
      "source": [
        "# from sklearn.cluster import KMeans\n",
        "\n",
        "# # Kmeans++\n",
        "# km = KMeans(n_clusters=2, init='k-means++', max_iter=300, n_init=5, verbose=0, random_state=3425)\n",
        "# km.fit(tfidf_matrix)\n",
        "# # cluster assignement (list showing the cluster assigned to each instance)\n",
        "# predicted_labels = km.labels_\n",
        "# clusters = predicted_labels.tolist()"
      ]
    },
    {
      "cell_type": "code",
      "execution_count": 32,
      "metadata": {},
      "outputs": [
        {
          "name": "stdout",
          "output_type": "stream",
          "text": [
            "151\n",
            "38\n"
          ]
        }
      ],
      "source": [
        "from sklearn.cluster import KMeans\n",
        "\n",
        "# Kmeans++\n",
        "km = KMeans(n_clusters=2, init='k-means++', max_iter=300, n_init=5, verbose=0, random_state=42)\n",
        "km.fit(X_train_matrix)\n",
        "clusters_train = km.labels_\n",
        "print(len(clusters_train))\n",
        "\n",
        "predicted = km.predict(X_test_matrix)\n",
        "\n",
        "# cluster assignement (list showing the cluster assigned to each instance)\n",
        "clusters = predicted.tolist()\n",
        "print(len(clusters))"
      ]
    },
    {
      "cell_type": "code",
      "execution_count": 15,
      "metadata": {
        "colab": {
          "base_uri": "https://localhost:8080/"
        },
        "id": "dPTKfCJ-07RQ",
        "outputId": "17cf26a5-5e32-48ca-e28f-a6c269e5d789"
      },
      "outputs": [
        {
          "name": "stdout",
          "output_type": "stream",
          "text": [
            "151\n"
          ]
        }
      ],
      "source": [
        "# print(len(predicted_labels))\n",
        "X_test"
      ]
    },
    {
      "cell_type": "markdown",
      "metadata": {
        "id": "P9KrAPld1HLT"
      },
      "source": [
        "## Inspecting Clustering Results"
      ]
    },
    {
      "cell_type": "code",
      "execution_count": 25,
      "metadata": {
        "colab": {
          "base_uri": "https://localhost:8080/"
        },
        "id": "7lcVRrds1IWf",
        "outputId": "c5bb33c7-c69a-4866-ef5e-bbc2c6debb7c"
      },
      "outputs": [
        {
          "data": {
            "text/html": [
              "<div>\n",
              "<style scoped>\n",
              "    .dataframe tbody tr th:only-of-type {\n",
              "        vertical-align: middle;\n",
              "    }\n",
              "\n",
              "    .dataframe tbody tr th {\n",
              "        vertical-align: top;\n",
              "    }\n",
              "\n",
              "    .dataframe thead th {\n",
              "        text-align: right;\n",
              "    }\n",
              "</style>\n",
              "<table border=\"1\" class=\"dataframe\">\n",
              "  <thead>\n",
              "    <tr style=\"text-align: right;\">\n",
              "      <th></th>\n",
              "      <th>Content</th>\n",
              "      <th>Category</th>\n",
              "      <th>cluster</th>\n",
              "    </tr>\n",
              "  </thead>\n",
              "  <tbody>\n",
              "    <tr>\n",
              "      <th>90</th>\n",
              "      <td>evelin winifred aston later evelin leigh 22 ja...</td>\n",
              "      <td>Sculptors</td>\n",
              "      <td>1</td>\n",
              "    </tr>\n",
              "    <tr>\n",
              "      <th>69</th>\n",
              "      <td>rachel ara born  jersey londonbased contempora...</td>\n",
              "      <td>Sculptors</td>\n",
              "      <td>1</td>\n",
              "    </tr>\n",
              "    <tr>\n",
              "      <th>18</th>\n",
              "      <td>sanjeev arora born january  indian american th...</td>\n",
              "      <td>Computer_Scientists</td>\n",
              "      <td>0</td>\n",
              "    </tr>\n",
              "    <tr>\n",
              "      <th>15</th>\n",
              "      <td>cecilia rodriguez aragon american computer sci...</td>\n",
              "      <td>Computer_Scientists</td>\n",
              "      <td>0</td>\n",
              "    </tr>\n",
              "    <tr>\n",
              "      <th>67</th>\n",
              "      <td>david j brown may refer david j brown crickete...</td>\n",
              "      <td>Computer_Scientists</td>\n",
              "      <td>0</td>\n",
              "    </tr>\n",
              "  </tbody>\n",
              "</table>\n",
              "</div>"
            ],
            "text/plain": [
              "                                              Content             Category  \\\n",
              "90  evelin winifred aston later evelin leigh 22 ja...            Sculptors   \n",
              "69  rachel ara born  jersey londonbased contempora...            Sculptors   \n",
              "18  sanjeev arora born january  indian american th...  Computer_Scientists   \n",
              "15  cecilia rodriguez aragon american computer sci...  Computer_Scientists   \n",
              "67  david j brown may refer david j brown crickete...  Computer_Scientists   \n",
              "\n",
              "    cluster  \n",
              "90        1  \n",
              "69        1  \n",
              "18        0  \n",
              "15        0  \n",
              "67        0  "
            ]
          },
          "execution_count": 25,
          "metadata": {},
          "output_type": "execute_result"
        }
      ],
      "source": [
        "clusters_test = pd.DataFrame({\"Content\": X_test, \"Category\": y_test, \"cluster\": clusters})\n",
        "clusters_test.head()"
      ]
    },
    {
      "cell_type": "code",
      "execution_count": 33,
      "metadata": {},
      "outputs": [
        {
          "data": {
            "text/html": [
              "<div>\n",
              "<style scoped>\n",
              "    .dataframe tbody tr th:only-of-type {\n",
              "        vertical-align: middle;\n",
              "    }\n",
              "\n",
              "    .dataframe tbody tr th {\n",
              "        vertical-align: top;\n",
              "    }\n",
              "\n",
              "    .dataframe thead th {\n",
              "        text-align: right;\n",
              "    }\n",
              "</style>\n",
              "<table border=\"1\" class=\"dataframe\">\n",
              "  <thead>\n",
              "    <tr style=\"text-align: right;\">\n",
              "      <th></th>\n",
              "      <th>Content</th>\n",
              "      <th>Category</th>\n",
              "      <th>cluster</th>\n",
              "    </tr>\n",
              "  </thead>\n",
              "  <tbody>\n",
              "    <tr>\n",
              "      <th>35</th>\n",
              "      <td>cecilia berdichevsky berdichevski née tuwjasz ...</td>\n",
              "      <td>Computer_Scientists</td>\n",
              "      <td>0</td>\n",
              "    </tr>\n",
              "    <tr>\n",
              "      <th>4</th>\n",
              "      <td>louise abbéma 30 october  – 29 july  french pa...</td>\n",
              "      <td>Sculptors</td>\n",
              "      <td>1</td>\n",
              "    </tr>\n",
              "    <tr>\n",
              "      <th>10</th>\n",
              "      <td>jane ackroyd born  british artist best known p...</td>\n",
              "      <td>Sculptors</td>\n",
              "      <td>1</td>\n",
              "    </tr>\n",
              "    <tr>\n",
              "      <th>75</th>\n",
              "      <td>tracy kay camp born september 27  american com...</td>\n",
              "      <td>Computer_Scientists</td>\n",
              "      <td>0</td>\n",
              "    </tr>\n",
              "    <tr>\n",
              "      <th>93</th>\n",
              "      <td>john cocke may refer john cocke computer scien...</td>\n",
              "      <td>Computer_Scientists</td>\n",
              "      <td>0</td>\n",
              "    </tr>\n",
              "  </tbody>\n",
              "</table>\n",
              "</div>"
            ],
            "text/plain": [
              "                                              Content             Category  \\\n",
              "35  cecilia berdichevsky berdichevski née tuwjasz ...  Computer_Scientists   \n",
              "4   louise abbéma 30 october  – 29 july  french pa...            Sculptors   \n",
              "10  jane ackroyd born  british artist best known p...            Sculptors   \n",
              "75  tracy kay camp born september 27  american com...  Computer_Scientists   \n",
              "93  john cocke may refer john cocke computer scien...  Computer_Scientists   \n",
              "\n",
              "    cluster  \n",
              "35        0  \n",
              "4         1  \n",
              "10        1  \n",
              "75        0  \n",
              "93        0  "
            ]
          },
          "execution_count": 33,
          "metadata": {},
          "output_type": "execute_result"
        }
      ],
      "source": [
        "clusters_train_df = pd.DataFrame({\"Content\": X_train, \"Category\": y_train, \"cluster\": clusters_train})\n",
        "clusters_train_df.head()"
      ]
    },
    {
      "cell_type": "code",
      "execution_count": 49,
      "metadata": {
        "colab": {
          "base_uri": "https://localhost:8080/"
        },
        "id": "nNgSJLLK4DcN",
        "outputId": "b5a06776-1acd-436d-d3cf-7a395ebb0198"
      },
      "outputs": [
        {
          "name": "stdout",
          "output_type": "stream",
          "text": [
            "35    0\n",
            "4     1\n",
            "10    1\n",
            "75    0\n",
            "93    0\n",
            "     ..\n",
            "12    1\n",
            "14    0\n",
            "92    0\n",
            "85    1\n",
            "8     1\n",
            "Length: 151, dtype: int8\n",
            "[0 1 1 0 0 0 0 1 1 0 0 0 0 1 1 1 1 0 0 1 1 1 0 0 0 1 0 1 0 1 0 1 0 1 1 1 0\n",
            " 1 1 0 0 1 0 0 1 1 1 1 0 1 1 1 0 1 1 0 1 0 0 1 0 0 1 1 0 0 1 0 0 0 0 1 0 0\n",
            " 1 1 0 1 1 1 0 0 0 0 1 1 0 1 1 0 1 0 1 1 1 0 0 0 0 1 0 0 1 1 0 0 0 0 1 1 0\n",
            " 0 1 1 1 1 0 0 1 0 1 0 0 0 0 0 1 1 1 0 1 1 0 0 1 1 1 1 1 1 0 0 1 1 0 0 1 0\n",
            " 0 1 1]\n",
            "Homogeneity: 1.000\n",
            "Completeness: 1.000\n",
            "V-measure: 1.000\n",
            "Adjusted Rand-Index: 1.000\n",
            "Silhouette Coefficient: 0.094\n",
            "\n"
          ]
        }
      ],
      "source": [
        "from sklearn import metrics\n",
        "# Convert  labels to numerical values if necessary\n",
        "labels = y_train.astype('category').cat.codes\n",
        "#labels= df['Category']\n",
        "print( labels)\n",
        "print( km.labels_)\n",
        "\n",
        "print(\"Homogeneity: %0.3f\" % metrics.homogeneity_score(labels, km.labels_))\n",
        "print(\"Completeness: %0.3f\" % metrics.completeness_score(labels, km.labels_))\n",
        "print(\"V-measure: %0.3f\" % metrics.v_measure_score(labels, km.labels_))\n",
        "print(\"Adjusted Rand-Index: %.3f\"\n",
        "      % metrics.adjusted_rand_score(labels, km.labels_))\n",
        "print(\"Silhouette Coefficient: %0.3f\"\n",
        "      % metrics.silhouette_score(X_train_matrix, km.labels_, sample_size=1000))\n",
        "\n",
        "print()"
      ]
    },
    {
      "cell_type": "markdown",
      "metadata": {
        "id": "mvxdkYHa8I3p"
      },
      "source": [
        " **Supervised metrics **show that the automatic clustering is exactly the same as the ground truth."
      ]
    },
    {
      "cell_type": "markdown",
      "metadata": {
        "id": "JghEWLwQ95S3"
      },
      "source": [
        "Unsupervised metrics: Silhouette Coefficient is an assessment of how well samples have been clustered, combining both cohesion (how close each point in a cluster is to other points in the same cluster) and separation (how far away a point in one cluster is from points in another cluster).\n",
        "\n",
        "In our case, the silhouette coefficient is positive, however small. This can also be seen in the visualization: the two clusters, though not overlapping, almost touch in two areas."
      ]
    },
    {
      "cell_type": "markdown",
      "metadata": {
        "id": "Tz_iHbkNQYvy"
      },
      "source": []
    },
    {
      "cell_type": "markdown",
      "metadata": {
        "id": "vEnYKr9V-_tT"
      },
      "source": [
        "# Visualisation of the clusters"
      ]
    },
    {
      "cell_type": "markdown",
      "metadata": {
        "id": "ShawpCC7QaUq"
      },
      "source": []
    },
    {
      "cell_type": "code",
      "execution_count": 35,
      "metadata": {
        "id": "BIsRWh1fATCH"
      },
      "outputs": [],
      "source": [
        "from sklearn.decomposition import PCA\n",
        "from sklearn.manifold import TSNE\n",
        "import matplotlib.pyplot as plt\n"
      ]
    },
    {
      "cell_type": "code",
      "execution_count": 36,
      "metadata": {
        "colab": {
          "base_uri": "https://localhost:8080/"
        },
        "id": "Exz-5r5Q_GVV",
        "outputId": "5a5f350d-21be-4a51-92c8-d1d57608fe72"
      },
      "outputs": [],
      "source": [
        "import os  # for os.path.basename\n",
        "\n",
        "import matplotlib.pyplot as plt\n",
        "import matplotlib as mpl\n",
        "from sklearn.metrics.pairwise import cosine_similarity\n",
        "from sklearn.manifold import MDS\n",
        "\n",
        "dist = 1 - cosine_similarity(X_train_matrix)\n",
        "\n",
        "# Use multidimensional scaling to convert the dist matrix into a 2-dimensional array\n",
        "\n",
        "MDS()\n",
        "\n",
        "# n_components=2 to plot results in a two-dimensional plane\n",
        "# \"precomputed\" because the  distance matrix dist is already computed\n",
        "# `random_state` set to 1 so that the plot is reproducible.\n",
        "mds = MDS(n_components=2, dissimilarity=\"precomputed\", random_state=1)\n",
        "\n",
        "pos = mds.fit_transform(dist)  # shape (n_components, n_samples)\n",
        "\n",
        "xs, ys = pos[:, 0], pos[:, 1]"
      ]
    },
    {
      "cell_type": "code",
      "execution_count": 50,
      "metadata": {
        "id": "SP0cn1QY_X_C"
      },
      "outputs": [],
      "source": [
        "#set up colors per clusters using a dict\n",
        "# #1b9e77 (green) #d95f02 (orange) #7570b3 (purple) #e7298a (pink)\n",
        "cluster_colors = {0: '#7570b3', 1: '#1b9e77'}\n",
        "\n",
        "#set up cluster names using a dict\n",
        "#cluster_names = {0: 'techno'}"
      ]
    },
    {
      "cell_type": "code",
      "execution_count": 51,
      "metadata": {
        "colab": {
          "base_uri": "https://localhost:8080/",
          "height": 449
        },
        "id": "Sm_QCyN9_cvB",
        "outputId": "96654278-a340-447d-d160-d8cdc06bae5f"
      },
      "outputs": [
        {
          "name": "stderr",
          "output_type": "stream",
          "text": [
            "No artists with labels found to put in legend.  Note that artists whose label start with an underscore are ignored when legend() is called with no argument.\n"
          ]
        },
        {
          "data": {
            "image/png": "[encoded data removed]",
            "text/plain": [
              "<Figure size 1700x900 with 1 Axes>"
            ]
          },
          "metadata": {},
          "output_type": "display_data"
        }
      ],
      "source": [
        "#some ipython magic to show the matplotlib plots inline\n",
        "%matplotlib inline\n",
        "\n",
        "#create data frame that has the result of the MDS plus the cluster numbers and titles\n",
        "df = pd.DataFrame(dict(x=xs, y=ys, label=clusters_train))\n",
        "\n",
        "#group by cluster\n",
        "groups = df.groupby('label')\n",
        "\n",
        "# set up plot\n",
        "fig, ax = plt.subplots(figsize=(17, 9)) # set size\n",
        "ax.margins(0.05) # Optional, just adds 5% padding to the autoscaling\n",
        "\n",
        "#iterate through groups to layer the plot\n",
        "#note that I use the cluster_name and cluster_color dicts with the 'name' lookup to return the appropriate color/label\n",
        "for name, group in groups:\n",
        "    ax.plot(group.x, group.y, marker='o', linestyle='', ms=12,\n",
        "        #    label=cluster_names[name],\n",
        "            color=cluster_colors[name])\n",
        "        #    mec='non')\n",
        "    ax.set_aspect('auto')\n",
        "    ax.tick_params(\\\n",
        "        axis= 'x',          # changes apply to the x-axis\n",
        "        which='both',      # both major and minor ticks are affected\n",
        "        bottom=False,      # ticks along the bottom edge are off\n",
        "        top=False,         # ticks along the top edge are off\n",
        "        labelbottom=False)\n",
        "    ax.tick_params(\\\n",
        "        axis= 'y',         # changes apply to the y-axis\n",
        "        which='both',      # both major and minor ticks are affected\n",
        "        left=False,      # ticks along the bottom edge are off\n",
        "        top=False,         # ticks along the top edge are off\n",
        "        labelleft=False)\n",
        "\n",
        "ax.legend(numpoints=1)  #show legend with only 1 point\n",
        "\n",
        "\n",
        "plt.show() #show the plot\n"
      ]
    }
  ],
  "metadata": {
    "colab": {
      "authorship_tag": "ABX9TyNn3Fw6HanewoRg05T3s3Z0",
      "include_colab_link": true,
      "provenance": []
    },
    "kernelspec": {
      "display_name": "Python 3",
      "name": "python3"
    },
    "language_info": {
      "codemirror_mode": {
        "name": "ipython",
        "version": 3
      },
      "file_extension": ".py",
      "mimetype": "text/x-python",
      "name": "python",
      "nbconvert_exporter": "python",
      "pygments_lexer": "ipython3",
      "version": "3.10.12"
    }
  },
  "nbformat": 4,
  "nbformat_minor": 0
}
