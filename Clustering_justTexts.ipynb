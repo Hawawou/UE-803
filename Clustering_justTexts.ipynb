{
  "nbformat": 4,
  "nbformat_minor": 0,
  "metadata": {
    "colab": {
      "provenance": [],
      "authorship_tag": "ABX9TyNn3Fw6HanewoRg05T3s3Z0",
      "include_colab_link": true
    },
    "kernelspec": {
      "name": "python3",
      "display_name": "Python 3"
    },
    "language_info": {
      "name": "python"
    }
  },
  "cells": [
    {
      "cell_type": "markdown",
      "metadata": {
        "id": "view-in-github",
        "colab_type": "text"
      },
      "source": [
        "<a href=\"https://colab.research.google.com/github/Hawawou/UE-803/blob/main/Clustering_justTexts.ipynb\" target=\"_parent\"><img src=\"https://colab.research.google.com/assets/colab-badge.svg\" alt=\"Open In Colab\"/></a>"
      ]
    },
    {
      "cell_type": "code",
      "source": [
        "import re"
      ],
      "metadata": {
        "id": "K2DuOK0oLehm"
      },
      "execution_count": 8,
      "outputs": []
    },
    {
      "cell_type": "code",
      "execution_count": 1,
      "metadata": {
        "colab": {
          "base_uri": "https://localhost:8080/",
          "height": 206
        },
        "id": "PY3PW5rkuUSH",
        "outputId": "5abcd745-16fa-4b25-f2d9-45c87bbc8b35"
      },
      "outputs": [
        {
          "output_type": "execute_result",
          "data": {
            "text/plain": [
              "     Category                   Name  \\\n",
              "90  Sculptors  Evelin Winifred Aston   \n",
              "91  Sculptors         Karel Aubroeck   \n",
              "92  Sculptors           Mary Audsley   \n",
              "93  Sculptors         Hezekiah Augur   \n",
              "94  Sculptors      Antun Augustinčić   \n",
              "\n",
              "                                              Content  \n",
              "90  evelin winifred aston later evelin leigh 22 ja...  \n",
              "91  karel aubroeck 28 august 1894 – 28 july 1986 f...  \n",
              "92  mary c audsley 19192008 british painter sculpt...  \n",
              "93  hezekiah augur february 21 1791 – january 10 1...  \n",
              "94  antun augustinčić 4 may 1900 – 10 may 1979 cro...  "
            ],
            "text/html": [
              "\n",
              "  <div id=\"df-3f71cb2b-f149-4440-97d9-905693c7b253\" class=\"colab-df-container\">\n",
              "    <div>\n",
              "<style scoped>\n",
              "    .dataframe tbody tr th:only-of-type {\n",
              "        vertical-align: middle;\n",
              "    }\n",
              "\n",
              "    .dataframe tbody tr th {\n",
              "        vertical-align: top;\n",
              "    }\n",
              "\n",
              "    .dataframe thead th {\n",
              "        text-align: right;\n",
              "    }\n",
              "</style>\n",
              "<table border=\"1\" class=\"dataframe\">\n",
              "  <thead>\n",
              "    <tr style=\"text-align: right;\">\n",
              "      <th></th>\n",
              "      <th>Category</th>\n",
              "      <th>Name</th>\n",
              "      <th>Content</th>\n",
              "    </tr>\n",
              "  </thead>\n",
              "  <tbody>\n",
              "    <tr>\n",
              "      <th>90</th>\n",
              "      <td>Sculptors</td>\n",
              "      <td>Evelin Winifred Aston</td>\n",
              "      <td>evelin winifred aston later evelin leigh 22 ja...</td>\n",
              "    </tr>\n",
              "    <tr>\n",
              "      <th>91</th>\n",
              "      <td>Sculptors</td>\n",
              "      <td>Karel Aubroeck</td>\n",
              "      <td>karel aubroeck 28 august 1894 – 28 july 1986 f...</td>\n",
              "    </tr>\n",
              "    <tr>\n",
              "      <th>92</th>\n",
              "      <td>Sculptors</td>\n",
              "      <td>Mary Audsley</td>\n",
              "      <td>mary c audsley 19192008 british painter sculpt...</td>\n",
              "    </tr>\n",
              "    <tr>\n",
              "      <th>93</th>\n",
              "      <td>Sculptors</td>\n",
              "      <td>Hezekiah Augur</td>\n",
              "      <td>hezekiah augur february 21 1791 – january 10 1...</td>\n",
              "    </tr>\n",
              "    <tr>\n",
              "      <th>94</th>\n",
              "      <td>Sculptors</td>\n",
              "      <td>Antun Augustinčić</td>\n",
              "      <td>antun augustinčić 4 may 1900 – 10 may 1979 cro...</td>\n",
              "    </tr>\n",
              "  </tbody>\n",
              "</table>\n",
              "</div>\n",
              "    <div class=\"colab-df-buttons\">\n",
              "\n",
              "  <div class=\"colab-df-container\">\n",
              "    <button class=\"colab-df-convert\" onclick=\"convertToInteractive('df-3f71cb2b-f149-4440-97d9-905693c7b253')\"\n",
              "            title=\"Convert this dataframe to an interactive table.\"\n",
              "            style=\"display:none;\">\n",
              "\n",
              "  <svg xmlns=\"http://www.w3.org/2000/svg\" height=\"24px\" viewBox=\"0 -960 960 960\">\n",
              "    <path d=\"M120-120v-720h720v720H120Zm60-500h600v-160H180v160Zm220 220h160v-160H400v160Zm0 220h160v-160H400v160ZM180-400h160v-160H180v160Zm440 0h160v-160H620v160ZM180-180h160v-160H180v160Zm440 0h160v-160H620v160Z\"/>\n",
              "  </svg>\n",
              "    </button>\n",
              "\n",
              "  <style>\n",
              "    .colab-df-container {\n",
              "      display:flex;\n",
              "      gap: 12px;\n",
              "    }\n",
              "\n",
              "    .colab-df-convert {\n",
              "      background-color: #E8F0FE;\n",
              "      border: none;\n",
              "      border-radius: 50%;\n",
              "      cursor: pointer;\n",
              "      display: none;\n",
              "      fill: #1967D2;\n",
              "      height: 32px;\n",
              "      padding: 0 0 0 0;\n",
              "      width: 32px;\n",
              "    }\n",
              "\n",
              "    .colab-df-convert:hover {\n",
              "      background-color: #E2EBFA;\n",
              "      box-shadow: 0px 1px 2px rgba(60, 64, 67, 0.3), 0px 1px 3px 1px rgba(60, 64, 67, 0.15);\n",
              "      fill: #174EA6;\n",
              "    }\n",
              "\n",
              "    .colab-df-buttons div {\n",
              "      margin-bottom: 4px;\n",
              "    }\n",
              "\n",
              "    [theme=dark] .colab-df-convert {\n",
              "      background-color: #3B4455;\n",
              "      fill: #D2E3FC;\n",
              "    }\n",
              "\n",
              "    [theme=dark] .colab-df-convert:hover {\n",
              "      background-color: #434B5C;\n",
              "      box-shadow: 0px 1px 3px 1px rgba(0, 0, 0, 0.15);\n",
              "      filter: drop-shadow(0px 1px 2px rgba(0, 0, 0, 0.3));\n",
              "      fill: #FFFFFF;\n",
              "    }\n",
              "  </style>\n",
              "\n",
              "    <script>\n",
              "      const buttonEl =\n",
              "        document.querySelector('#df-3f71cb2b-f149-4440-97d9-905693c7b253 button.colab-df-convert');\n",
              "      buttonEl.style.display =\n",
              "        google.colab.kernel.accessAllowed ? 'block' : 'none';\n",
              "\n",
              "      async function convertToInteractive(key) {\n",
              "        const element = document.querySelector('#df-3f71cb2b-f149-4440-97d9-905693c7b253');\n",
              "        const dataTable =\n",
              "          await google.colab.kernel.invokeFunction('convertToInteractive',\n",
              "                                                    [key], {});\n",
              "        if (!dataTable) return;\n",
              "\n",
              "        const docLinkHtml = 'Like what you see? Visit the ' +\n",
              "          '<a target=\"_blank\" href=https://colab.research.google.com/notebooks/data_table.ipynb>data table notebook</a>'\n",
              "          + ' to learn more about interactive tables.';\n",
              "        element.innerHTML = '';\n",
              "        dataTable['output_type'] = 'display_data';\n",
              "        await google.colab.output.renderOutput(dataTable, element);\n",
              "        const docLink = document.createElement('div');\n",
              "        docLink.innerHTML = docLinkHtml;\n",
              "        element.appendChild(docLink);\n",
              "      }\n",
              "    </script>\n",
              "  </div>\n",
              "\n",
              "\n",
              "<div id=\"df-260526c2-c036-4d68-8306-0f02f40c0c41\">\n",
              "  <button class=\"colab-df-quickchart\" onclick=\"quickchart('df-260526c2-c036-4d68-8306-0f02f40c0c41')\"\n",
              "            title=\"Suggest charts\"\n",
              "            style=\"display:none;\">\n",
              "\n",
              "<svg xmlns=\"http://www.w3.org/2000/svg\" height=\"24px\"viewBox=\"0 0 24 24\"\n",
              "     width=\"24px\">\n",
              "    <g>\n",
              "        <path d=\"M19 3H5c-1.1 0-2 .9-2 2v14c0 1.1.9 2 2 2h14c1.1 0 2-.9 2-2V5c0-1.1-.9-2-2-2zM9 17H7v-7h2v7zm4 0h-2V7h2v10zm4 0h-2v-4h2v4z\"/>\n",
              "    </g>\n",
              "</svg>\n",
              "  </button>\n",
              "\n",
              "<style>\n",
              "  .colab-df-quickchart {\n",
              "      --bg-color: #E8F0FE;\n",
              "      --fill-color: #1967D2;\n",
              "      --hover-bg-color: #E2EBFA;\n",
              "      --hover-fill-color: #174EA6;\n",
              "      --disabled-fill-color: #AAA;\n",
              "      --disabled-bg-color: #DDD;\n",
              "  }\n",
              "\n",
              "  [theme=dark] .colab-df-quickchart {\n",
              "      --bg-color: #3B4455;\n",
              "      --fill-color: #D2E3FC;\n",
              "      --hover-bg-color: #434B5C;\n",
              "      --hover-fill-color: #FFFFFF;\n",
              "      --disabled-bg-color: #3B4455;\n",
              "      --disabled-fill-color: #666;\n",
              "  }\n",
              "\n",
              "  .colab-df-quickchart {\n",
              "    background-color: var(--bg-color);\n",
              "    border: none;\n",
              "    border-radius: 50%;\n",
              "    cursor: pointer;\n",
              "    display: none;\n",
              "    fill: var(--fill-color);\n",
              "    height: 32px;\n",
              "    padding: 0;\n",
              "    width: 32px;\n",
              "  }\n",
              "\n",
              "  .colab-df-quickchart:hover {\n",
              "    background-color: var(--hover-bg-color);\n",
              "    box-shadow: 0 1px 2px rgba(60, 64, 67, 0.3), 0 1px 3px 1px rgba(60, 64, 67, 0.15);\n",
              "    fill: var(--button-hover-fill-color);\n",
              "  }\n",
              "\n",
              "  .colab-df-quickchart-complete:disabled,\n",
              "  .colab-df-quickchart-complete:disabled:hover {\n",
              "    background-color: var(--disabled-bg-color);\n",
              "    fill: var(--disabled-fill-color);\n",
              "    box-shadow: none;\n",
              "  }\n",
              "\n",
              "  .colab-df-spinner {\n",
              "    border: 2px solid var(--fill-color);\n",
              "    border-color: transparent;\n",
              "    border-bottom-color: var(--fill-color);\n",
              "    animation:\n",
              "      spin 1s steps(1) infinite;\n",
              "  }\n",
              "\n",
              "  @keyframes spin {\n",
              "    0% {\n",
              "      border-color: transparent;\n",
              "      border-bottom-color: var(--fill-color);\n",
              "      border-left-color: var(--fill-color);\n",
              "    }\n",
              "    20% {\n",
              "      border-color: transparent;\n",
              "      border-left-color: var(--fill-color);\n",
              "      border-top-color: var(--fill-color);\n",
              "    }\n",
              "    30% {\n",
              "      border-color: transparent;\n",
              "      border-left-color: var(--fill-color);\n",
              "      border-top-color: var(--fill-color);\n",
              "      border-right-color: var(--fill-color);\n",
              "    }\n",
              "    40% {\n",
              "      border-color: transparent;\n",
              "      border-right-color: var(--fill-color);\n",
              "      border-top-color: var(--fill-color);\n",
              "    }\n",
              "    60% {\n",
              "      border-color: transparent;\n",
              "      border-right-color: var(--fill-color);\n",
              "    }\n",
              "    80% {\n",
              "      border-color: transparent;\n",
              "      border-right-color: var(--fill-color);\n",
              "      border-bottom-color: var(--fill-color);\n",
              "    }\n",
              "    90% {\n",
              "      border-color: transparent;\n",
              "      border-bottom-color: var(--fill-color);\n",
              "    }\n",
              "  }\n",
              "</style>\n",
              "\n",
              "  <script>\n",
              "    async function quickchart(key) {\n",
              "      const quickchartButtonEl =\n",
              "        document.querySelector('#' + key + ' button');\n",
              "      quickchartButtonEl.disabled = true;  // To prevent multiple clicks.\n",
              "      quickchartButtonEl.classList.add('colab-df-spinner');\n",
              "      try {\n",
              "        const charts = await google.colab.kernel.invokeFunction(\n",
              "            'suggestCharts', [key], {});\n",
              "      } catch (error) {\n",
              "        console.error('Error during call to suggestCharts:', error);\n",
              "      }\n",
              "      quickchartButtonEl.classList.remove('colab-df-spinner');\n",
              "      quickchartButtonEl.classList.add('colab-df-quickchart-complete');\n",
              "    }\n",
              "    (() => {\n",
              "      let quickchartButtonEl =\n",
              "        document.querySelector('#df-260526c2-c036-4d68-8306-0f02f40c0c41 button');\n",
              "      quickchartButtonEl.style.display =\n",
              "        google.colab.kernel.accessAllowed ? 'block' : 'none';\n",
              "    })();\n",
              "  </script>\n",
              "</div>\n",
              "    </div>\n",
              "  </div>\n"
            ],
            "application/vnd.google.colaboratory.intrinsic+json": {
              "type": "dataframe",
              "summary": "{\n  \"name\": \"df\",\n  \"rows\": 5,\n  \"fields\": [\n    {\n      \"column\": \"Category\",\n      \"properties\": {\n        \"dtype\": \"category\",\n        \"num_unique_values\": 1,\n        \"samples\": [\n          \"Sculptors\"\n        ],\n        \"semantic_type\": \"\",\n        \"description\": \"\"\n      }\n    },\n    {\n      \"column\": \"Name\",\n      \"properties\": {\n        \"dtype\": \"string\",\n        \"num_unique_values\": 5,\n        \"samples\": [\n          \"Karel Aubroeck\"\n        ],\n        \"semantic_type\": \"\",\n        \"description\": \"\"\n      }\n    },\n    {\n      \"column\": \"Content\",\n      \"properties\": {\n        \"dtype\": \"string\",\n        \"num_unique_values\": 5,\n        \"samples\": [\n          \"karel aubroeck 28 august 1894 \\u2013 28 july 1986 flemish expressionist sculptor painter best known monumental sculptures equestrian statue king albert nieuwpoort sculpture group van raemdonck brothers yser towers diksmuide biography aubroeck born temse 28 august 1884 received education academy temse later trained woodcarver mechelen first world war stayed front soldier 1918 continued studies academy mechelen settled independent woodcarver native town temse 1924 house de uil built temse art deco style 1930s expanded studio gallery lived death 1986 houses garden redesigned 2002 florist dani\\u00ebl ost behalf current owners contributed four monumental statues foot yser towers 1933 aubroeck suspected collaboration german occupier september 1944 imprisoned three months work first world war addition wood carvings kinds exotic woods also specialized monumental constructivist sculpture opted naturalistic decorative design brick technique natural stone plaster aubroeck mainly worked expressionist style characterized closed stylized character 1928 created first important monumental work de wekgroep currently locate town hall sintniklaas 15 february 1931 selected jury yser pilgrimage committee 33 candidates create four monumental openair sculptures intention placing foot yser tower diksmuide symbol flemish suffering yser third sculpture van raemdonck brothers solemnly inaugurated 20 august 1933 acquired national fame visual artist 1935 universal exposition brussels exhibited largerthanlife sculpture vrouw met lier 1937 world exposition paris mahogany sculpture bescherming angst fascinated oeuvre constant permeke aubroeck also started painting 1922 1968 took part exhibitions koninklijke wase kunstkring four biennales middelheim museum addition president royal flemish academy belgium science arts work found museums antwerp sintniklaas among others gallery references\"\n        ],\n        \"semantic_type\": \"\",\n        \"description\": \"\"\n      }\n    }\n  ]\n}"
            }
          },
          "metadata": {},
          "execution_count": 1
        }
      ],
      "source": [
        "import pandas as pd\n",
        "df1 = pd.read_csv('/content/cleaned_computer_sc.csv')\n",
        "df2 = pd.read_csv('/content/cleaned_sculptors.csv')\n",
        "df = pd.concat([df1, df2])\n",
        "df.head()\n",
        "df.tail()"
      ]
    },
    {
      "cell_type": "markdown",
      "source": [
        "# Vectorise the texts\n"
      ],
      "metadata": {
        "id": "yDW5mErVxaYn"
      }
    },
    {
      "cell_type": "code",
      "source": [
        "X = df['Content']\n",
        "Y = df['Category']\n",
        "X.head()"
      ],
      "metadata": {
        "colab": {
          "base_uri": "https://localhost:8080/"
        },
        "id": "QNgtTetdwlh9",
        "outputId": "96f197c3-7828-423a-f37c-7ca6cbdfbaa9"
      },
      "execution_count": 2,
      "outputs": [
        {
          "output_type": "execute_result",
          "data": {
            "text/plain": [
              "0    atta ur rehman khan urdu عطا الرحمن خان comput...\n",
              "1    willibrordus martinus pancratius van der aalst...\n",
              "2    scott joel aaronson born may 21 1981 american ...\n",
              "3    rediet abebe amharic ረድኤት አበበ ethiopian comput...\n",
              "4    harold abelson born april 26 1947 american mat...\n",
              "Name: Content, dtype: object"
            ]
          },
          "metadata": {},
          "execution_count": 2
        }
      ]
    },
    {
      "cell_type": "code",
      "source": [
        "import numpy as np\n",
        "from sklearn.cluster import MiniBatchKMeans\n",
        "from sklearn.feature_extraction.text import TfidfVectorizer\n",
        "from sklearn.decomposition import PCA\n",
        "import matplotlib.pyplot as plt\n",
        "import nltk\n",
        "from nltk import word_tokenize\n",
        "from nltk.corpus import stopwords"
      ],
      "metadata": {
        "id": "2JYf6yPlxzqF"
      },
      "execution_count": 3,
      "outputs": []
    },
    {
      "cell_type": "code",
      "source": [
        "!pip install nltk"
      ],
      "metadata": {
        "colab": {
          "base_uri": "https://localhost:8080/"
        },
        "id": "E3J5UgxEzA80",
        "outputId": "72ea2527-c7e8-47ba-f991-c91e9ee651e2"
      },
      "execution_count": null,
      "outputs": [
        {
          "output_type": "stream",
          "name": "stdout",
          "text": [
            "Requirement already satisfied: nltk in /usr/local/lib/python3.10/dist-packages (3.8.1)\n",
            "Requirement already satisfied: click in /usr/local/lib/python3.10/dist-packages (from nltk) (8.1.7)\n",
            "Requirement already satisfied: joblib in /usr/local/lib/python3.10/dist-packages (from nltk) (1.4.2)\n",
            "Requirement already satisfied: regex>=2021.8.3 in /usr/local/lib/python3.10/dist-packages (from nltk) (2024.5.15)\n",
            "Requirement already satisfied: tqdm in /usr/local/lib/python3.10/dist-packages (from nltk) (4.66.4)\n"
          ]
        }
      ]
    },
    {
      "cell_type": "code",
      "source": [
        "\n",
        "nltk.download('punkt')"
      ],
      "metadata": {
        "colab": {
          "base_uri": "https://localhost:8080/"
        },
        "id": "7Zhvby1YzNbM",
        "outputId": "abc6ded7-0ea8-40d9-f3f1-b23d8236f129"
      },
      "execution_count": 4,
      "outputs": [
        {
          "output_type": "stream",
          "name": "stderr",
          "text": [
            "[nltk_data] Downloading package punkt to /root/nltk_data...\n",
            "[nltk_data]   Unzipping tokenizers/punkt.zip.\n"
          ]
        },
        {
          "output_type": "execute_result",
          "data": {
            "text/plain": [
              "True"
            ]
          },
          "metadata": {},
          "execution_count": 4
        }
      ]
    },
    {
      "cell_type": "code",
      "source": [
        "def remove_years(text):\n",
        "    # Regex to remove four-digit numbers (years)\n",
        "    return re.sub(r'\\b\\d{4}\\b', '', text)\n",
        "\n",
        "# Apply the remove_years function to all text data\n",
        "X_cleaned = [remove_years(text) for text in X]"
      ],
      "metadata": {
        "id": "M7fEZUEKLY2e"
      },
      "execution_count": 9,
      "outputs": []
    },
    {
      "cell_type": "code",
      "source": [
        "# Using TFIDF vectorizer to convert convert words to Vector Space\n",
        "tfidf_vectorizer = TfidfVectorizer(max_features=200,\n",
        "                                       use_idf=True,\n",
        "                                       stop_words='english',\n",
        "                                       tokenizer=nltk.word_tokenize,\n",
        "                                       ngram_range=(1, 1))\n",
        "\n",
        "# Fit the vectorizer to text data\n",
        "tfidf_matrix = tfidf_vectorizer.fit_transform(X_cleaned)"
      ],
      "metadata": {
        "id": "TAEhJA_6ycvz",
        "colab": {
          "base_uri": "https://localhost:8080/"
        },
        "outputId": "30c41020-991b-4156-b25f-f8aca12f508d"
      },
      "execution_count": 18,
      "outputs": [
        {
          "output_type": "stream",
          "name": "stderr",
          "text": [
            "/usr/local/lib/python3.10/dist-packages/sklearn/feature_extraction/text.py:528: UserWarning: The parameter 'token_pattern' will not be used since 'tokenizer' is not None'\n",
            "  warnings.warn(\n"
          ]
        }
      ]
    },
    {
      "cell_type": "code",
      "source": [
        "features = tfidf_vectorizer.get_feature_names_out()\n",
        "print(features)"
      ],
      "metadata": {
        "colab": {
          "base_uri": "https://localhost:8080/"
        },
        "collapsed": true,
        "id": "tu0KWA6w0YW-",
        "outputId": "6a0b824b-c881-4516-9fe2-78a9966f17b8"
      },
      "execution_count": 11,
      "outputs": [
        {
          "output_type": "stream",
          "name": "stdout",
          "text": [
            "['1' '1995' '2' '2000' '2002' '2003' '2004' '2006' '2007' '2008' '2009'\n",
            " '2010' '2011' '2013' '2017' '2018' '2019' 'academy' 'acm' 'age' 'alberti'\n",
            " 'aleijadinho' 'amazon' 'american' 'april' 'architecture' 'art' 'artist'\n",
            " 'artists' 'arts' 'asawa' 'association' 'august' 'award' 'awarded'\n",
            " 'awards' 'babbage' 'based' 'began' 'best' 'bezos' 'biography' 'board'\n",
            " 'book' 'books' 'boole' 'born' 'botvinnik' 'bronze' 'building' 'business'\n",
            " 'california' 'called' 'career' 'center' 'cerf' 'charles' 'chess' 'church'\n",
            " 'city' 'collection' 'college' 'company' 'computer' 'computers'\n",
            " 'computing' 'conference' 'contributions' 'created' 'data' 'david' 'death'\n",
            " 'degree' 'department' 'design' 'designed' 'developed' 'development'\n",
            " 'died' 'digital' 'e' 'early' 'education' 'engineering' 'exhibition'\n",
            " 'external' 'family' 'father' 'fellow' 'fine' 'foundation' 'gallery'\n",
            " 'george' 'germany' 'group' 'high' 'history' 'ibm' 'ieee' 'included'\n",
            " 'including' 'information' 'institute' 'international' 'internet' 'inuit'\n",
            " 'isbn' 'j' 'january' 'john' 'journal' 'july' 'june' 'known' 'language'\n",
            " 'large' 'later' 'leeds' 'life' 'links' 'logic' 'london' 'management'\n",
            " 'march' 'mathematics' 'media' 'member' 'model' 'modern' 'moved' 'museum'\n",
            " 'named' 'national' 'network' 'new' 'november' 'number' 'october' 'order'\n",
            " 'paper' 'paris' 'phd' 'president' 'press' 'prize' 'process' 'professor'\n",
            " 'program' 'programming' 'project' 'public' 'published' 'received'\n",
            " 'references' 'related' 'research' 'royal' 'san' 'school' 'science'\n",
            " 'sciences' 'scientist' 'sculptor' 'sculpture' 'sculptures' 'september'\n",
            " 'series' 'society' 'software' 'soviet' 'st' 'state' 'states' 'studied'\n",
            " 'style' 'systems' 'technical' 'technology' 'theory' 'time' 'united'\n",
            " 'university' 'use' 'used' 'using' 'vol' 'war' 'washington' 'web' 'women'\n",
            " 'work' 'worked' 'working' 'works' 'world' 'wrote' 'year' 'years' 'york'\n",
            " '–']\n"
          ]
        }
      ]
    },
    {
      "cell_type": "markdown",
      "source": [
        "# K-means clustering"
      ],
      "metadata": {
        "id": "B_auyrgG0jl6"
      }
    },
    {
      "cell_type": "code",
      "source": [
        "from sklearn.cluster import KMeans\n",
        "\n",
        "# Kmeans++\n",
        "km = KMeans(n_clusters=2, init='k-means++', max_iter=300, n_init=5, verbose=0, random_state=3425)\n",
        "km.fit(tfidf_matrix)\n",
        "# cluster assignement (list showing the cluster assigned to each instance)\n",
        "predicted_labels = km.labels_\n",
        "clusters = predicted_labels.tolist()"
      ],
      "metadata": {
        "id": "59W6qt3g0fhe"
      },
      "execution_count": 19,
      "outputs": []
    },
    {
      "cell_type": "code",
      "source": [
        "print(predicted_labels)"
      ],
      "metadata": {
        "colab": {
          "base_uri": "https://localhost:8080/"
        },
        "id": "dPTKfCJ-07RQ",
        "outputId": "17cf26a5-5e32-48ca-e28f-a6c269e5d789"
      },
      "execution_count": 20,
      "outputs": [
        {
          "output_type": "stream",
          "name": "stdout",
          "text": [
            "[0 0 0 0 0 0 0 0 0 0 0 0 0 0 0 0 0 0 0 0 0 0 0 0 0 0 0 0 0 0 0 0 0 0 0 0 0\n",
            " 0 0 0 0 0 0 0 0 0 0 0 0 0 0 0 0 0 0 0 0 0 0 0 0 0 0 0 0 0 0 0 0 0 0 0 0 0\n",
            " 0 0 0 0 0 0 0 0 0 0 0 0 0 0 0 0 0 0 0 0 1 1 1 1 1 1 1 1 1 1 1 1 1 1 1 1 1\n",
            " 1 1 1 1 1 1 1 1 1 1 1 1 1 1 1 1 1 1 1 1 1 1 1 1 1 1 1 1 1 1 1 1 1 1 1 1 1\n",
            " 1 1 1 1 1 1 1 1 1 1 1 1 1 1 1 1 1 1 1 1 1 1 1 1 1 1 1 1 1 1 1 1 1 1 1 1 1\n",
            " 1 1 1 1]\n"
          ]
        }
      ]
    },
    {
      "cell_type": "markdown",
      "source": [
        "## Inspecting Clustering Results"
      ],
      "metadata": {
        "id": "P9KrAPld1HLT"
      }
    },
    {
      "cell_type": "code",
      "source": [
        "df['cluster'] = clusters\n",
        "df['cluster'].value_counts()"
      ],
      "metadata": {
        "colab": {
          "base_uri": "https://localhost:8080/"
        },
        "id": "7lcVRrds1IWf",
        "outputId": "c5bb33c7-c69a-4866-ef5e-bbc2c6debb7c"
      },
      "execution_count": 21,
      "outputs": [
        {
          "output_type": "execute_result",
          "data": {
            "text/plain": [
              "cluster\n",
              "1    95\n",
              "0    94\n",
              "Name: count, dtype: int64"
            ]
          },
          "metadata": {},
          "execution_count": 21
        }
      ]
    },
    {
      "cell_type": "code",
      "source": [
        "from sklearn import metrics\n",
        "# Convert  labels to numerical values if necessary\n",
        "labels = df['Category'].astype('category').cat.codes\n",
        "#labels= df['Category']\n",
        "print( labels)\n",
        "print( km.labels_)\n",
        "\n",
        "print(\"Homogeneity: %0.3f\" % metrics.homogeneity_score(labels, km.labels_))\n",
        "print(\"Completeness: %0.3f\" % metrics.completeness_score(labels, km.labels_))\n",
        "print(\"V-measure: %0.3f\" % metrics.v_measure_score(labels, km.labels_))\n",
        "print(\"Adjusted Rand-Index: %.3f\"\n",
        "      % metrics.adjusted_rand_score(labels, km.labels_))\n",
        "print(\"Silhouette Coefficient: %0.3f\"\n",
        "      % metrics.silhouette_score(tfidf_matrix, km.labels_, sample_size=1000))\n",
        "\n",
        "print()"
      ],
      "metadata": {
        "colab": {
          "base_uri": "https://localhost:8080/"
        },
        "id": "nNgSJLLK4DcN",
        "outputId": "b5a06776-1acd-436d-d3cf-7a395ebb0198"
      },
      "execution_count": 22,
      "outputs": [
        {
          "output_type": "stream",
          "name": "stdout",
          "text": [
            "0     0\n",
            "1     0\n",
            "2     0\n",
            "3     0\n",
            "4     0\n",
            "     ..\n",
            "90    1\n",
            "91    1\n",
            "92    1\n",
            "93    1\n",
            "94    1\n",
            "Length: 189, dtype: int8\n",
            "[0 0 0 0 0 0 0 0 0 0 0 0 0 0 0 0 0 0 0 0 0 0 0 0 0 0 0 0 0 0 0 0 0 0 0 0 0\n",
            " 0 0 0 0 0 0 0 0 0 0 0 0 0 0 0 0 0 0 0 0 0 0 0 0 0 0 0 0 0 0 0 0 0 0 0 0 0\n",
            " 0 0 0 0 0 0 0 0 0 0 0 0 0 0 0 0 0 0 0 0 1 1 1 1 1 1 1 1 1 1 1 1 1 1 1 1 1\n",
            " 1 1 1 1 1 1 1 1 1 1 1 1 1 1 1 1 1 1 1 1 1 1 1 1 1 1 1 1 1 1 1 1 1 1 1 1 1\n",
            " 1 1 1 1 1 1 1 1 1 1 1 1 1 1 1 1 1 1 1 1 1 1 1 1 1 1 1 1 1 1 1 1 1 1 1 1 1\n",
            " 1 1 1 1]\n",
            "Homogeneity: 1.000\n",
            "Completeness: 1.000\n",
            "V-measure: 1.000\n",
            "Adjusted Rand-Index: 1.000\n",
            "Silhouette Coefficient: 0.098\n",
            "\n"
          ]
        }
      ]
    },
    {
      "cell_type": "markdown",
      "source": [
        " **Supervised metrics **show that the automatic clustering is exactly the same as the ground truth."
      ],
      "metadata": {
        "id": "mvxdkYHa8I3p"
      }
    },
    {
      "cell_type": "markdown",
      "source": [
        "Unsupervised metrics: Silhouette Coefficient is an assessment of how well samples have been clustered, combining both cohesion (how close each point in a cluster is to other points in the same cluster) and separation (how far away a point in one cluster is from points in another cluster).\n",
        "\n",
        "In our case, the silhouette coefficient is positive, however small. This can also be seen in the visualization: the two clusters, though not overlapping, almost touch in two areas."
      ],
      "metadata": {
        "id": "JghEWLwQ95S3"
      }
    },
    {
      "cell_type": "markdown",
      "source": [],
      "metadata": {
        "id": "Tz_iHbkNQYvy"
      }
    },
    {
      "cell_type": "markdown",
      "source": [
        "# Visualisation of the clusters"
      ],
      "metadata": {
        "id": "vEnYKr9V-_tT"
      }
    },
    {
      "cell_type": "markdown",
      "source": [],
      "metadata": {
        "id": "ShawpCC7QaUq"
      }
    },
    {
      "cell_type": "code",
      "source": [
        "from sklearn.decomposition import PCA\n",
        "from sklearn.manifold import TSNE\n",
        "import matplotlib.pyplot as plt\n"
      ],
      "metadata": {
        "id": "BIsRWh1fATCH"
      },
      "execution_count": 23,
      "outputs": []
    },
    {
      "cell_type": "code",
      "source": [
        "import os  # for os.path.basename\n",
        "\n",
        "import matplotlib.pyplot as plt\n",
        "import matplotlib as mpl\n",
        "from sklearn.metrics.pairwise import cosine_similarity\n",
        "from sklearn.manifold import MDS\n",
        "\n",
        "dist = 1 - cosine_similarity(tfidf_matrix)\n",
        "\n",
        "# Use multidimensional scaling to convert the dist matrix into a 2-dimensional array\n",
        "\n",
        "MDS()\n",
        "\n",
        "# n_components=2 to plot results in a two-dimensional plane\n",
        "# \"precomputed\" because the  distance matrix dist is already computed\n",
        "# `random_state` set to 1 so that the plot is reproducible.\n",
        "mds = MDS(n_components=2, dissimilarity=\"precomputed\", random_state=1)\n",
        "\n",
        "pos = mds.fit_transform(dist)  # shape (n_components, n_samples)\n",
        "\n",
        "xs, ys = pos[:, 0], pos[:, 1]"
      ],
      "metadata": {
        "colab": {
          "base_uri": "https://localhost:8080/"
        },
        "id": "Exz-5r5Q_GVV",
        "outputId": "5a5f350d-21be-4a51-92c8-d1d57608fe72"
      },
      "execution_count": 24,
      "outputs": [
        {
          "output_type": "stream",
          "name": "stderr",
          "text": [
            "/usr/local/lib/python3.10/dist-packages/sklearn/manifold/_mds.py:299: FutureWarning: The default value of `normalized_stress` will change to `'auto'` in version 1.4. To suppress this warning, manually set the value of `normalized_stress`.\n",
            "  warnings.warn(\n"
          ]
        }
      ]
    },
    {
      "cell_type": "code",
      "source": [
        "#set up colors per clusters using a dict\n",
        "# #1b9e77 (green) #d95f02 (orange) #7570b3 (purple) #e7298a (pink)\n",
        "cluster_colors = {0: '#7570b3', 1: '#1b9e77'}\n",
        "\n",
        "#set up cluster names using a dict\n",
        "#cluster_names = {0: 'techno'}"
      ],
      "metadata": {
        "id": "SP0cn1QY_X_C"
      },
      "execution_count": 25,
      "outputs": []
    },
    {
      "cell_type": "code",
      "source": [
        "#some ipython magic to show the matplotlib plots inline\n",
        "%matplotlib inline\n",
        "\n",
        "#create data frame that has the result of the MDS plus the cluster numbers and titles\n",
        "df = pd.DataFrame(dict(x=xs, y=ys, label=clusters))\n",
        "\n",
        "#group by cluster\n",
        "groups = df.groupby('label')\n",
        "\n",
        "# set up plot\n",
        "fig, ax = plt.subplots(figsize=(17, 9)) # set size\n",
        "ax.margins(0.05) # Optional, just adds 5% padding to the autoscaling\n",
        "\n",
        "#iterate through groups to layer the plot\n",
        "#note that I use the cluster_name and cluster_color dicts with the 'name' lookup to return the appropriate color/label\n",
        "for name, group in groups:\n",
        "    ax.plot(group.x, group.y, marker='o', linestyle='', ms=12,\n",
        "        #    label=cluster_names[name],\n",
        "            color=cluster_colors[name])\n",
        "        #    mec='non')\n",
        "    ax.set_aspect('auto')\n",
        "    ax.tick_params(\\\n",
        "        axis= 'x',          # changes apply to the x-axis\n",
        "        which='both',      # both major and minor ticks are affected\n",
        "        bottom=False,      # ticks along the bottom edge are off\n",
        "        top=False,         # ticks along the top edge are off\n",
        "        labelbottom=False)\n",
        "    ax.tick_params(\\\n",
        "        axis= 'y',         # changes apply to the y-axis\n",
        "        which='both',      # both major and minor ticks are affected\n",
        "        left=False,      # ticks along the bottom edge are off\n",
        "        top=False,         # ticks along the top edge are off\n",
        "        labelleft=False)\n",
        "\n",
        "ax.legend(numpoints=1)  #show legend with only 1 point\n",
        "\n",
        "\n",
        "plt.show() #show the plot\n"
      ],
      "metadata": {
        "colab": {
          "base_uri": "https://localhost:8080/",
          "height": 449
        },
        "id": "Sm_QCyN9_cvB",
        "outputId": "96654278-a340-447d-d160-d8cdc06bae5f"
      },
      "execution_count": 26,
      "outputs": [
        {
          "output_type": "stream",
          "name": "stderr",
          "text": [
            "WARNING:matplotlib.legend:No artists with labels found to put in legend.  Note that artists whose label start with an underscore are ignored when legend() is called with no argument.\n"
          ]
        },
        {
          "output_type": "display_data",
          "data": {
            "text/plain": [
              "<Figure size 1700x900 with 1 Axes>"
            ],
            "image/png": "[encoded data removed]"
          },
          "metadata": {}
        }
      ]
    }
  ]
}